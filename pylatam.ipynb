{
 "cells": [
  {
   "cell_type": "markdown",
   "metadata": {
    "slideshow": {
     "slide_type": "skip"
    }
   },
   "source": [
    "# &nbsp;\n",
    "\n",
    "NOTA: ¡¡BORRAR TODAS LAS CELDAS!!"
   ]
  },
  {
   "cell_type": "markdown",
   "metadata": {
    "slideshow": {
     "slide_type": "slide"
    }
   },
   "source": [
    "# Presentaciones Interactivas con Jupyter Notebook + RISE <br> *Todo lo que necesitas saber en 30 minutos*\n",
    "\n",
    "## Sebastián Flores\n",
    "### 27 Agosto, PyCon Latam 2021"
   ]
  },
  {
   "cell_type": "markdown",
   "metadata": {
    "slideshow": {
     "slide_type": "slide"
    }
   },
   "source": [
    "<div>\n",
    "    <div style=\"display: inline-block;  width: 50%;\">\n",
    "        <ul>\n",
    "            <li> <font style='color:#808080'>Who:</font> Sebastián Flores </li>\n",
    "            <li> <font style='color:#808080'>Day Job:</font> Chief Data Officer en uPlanner </li>\n",
    "            <li> <font style='color:#808080'>Interests:</font> Computación, Matemática y Educación </li>\n",
    "            <li> <font style='color:#808080'>Weapons of choice:</font> Python, javascript y html </li>\n",
    "            <li> <font style='color:#808080'>Where to find:</font> sebastiandres.xyz </li>\n",
    "            <br><br><br>\n",
    "        </ul>\n",
    "    </div>\n",
    "    <div style=\"display: inline-block; vertical-align: text-bottom; width: 30%;\">\n",
    "        <img src=\"images/avatar.png\" alt=\"Seba y Chispy\">\n",
    "    </div>\n",
    "</div>"
   ]
  },
  {
   "cell_type": "markdown",
   "metadata": {
    "slideshow": {
     "slide_type": "slide"
    }
   },
   "source": [
    "1. ¿Qué es RISE?\n",
    "2. ¿Porqué usar RISE?\n",
    "3. ¿Qué incluir?\n",
    "4. ¿Cómo usar RISE?\n",
    "5. ¿Cómo comenzar?\n",
    "6. ¿Cómo personalizar?\n",
    "7. ¿Cómo compartir?\n",
    "8. Consejos finales"
   ]
  },
  {
   "cell_type": "markdown",
   "metadata": {
    "slideshow": {
     "slide_type": "slide"
    }
   },
   "source": [
    "# 1. ¿Qué es RISE?\n"
   ]
  },
  {
   "cell_type": "markdown",
   "metadata": {
    "slideshow": {
     "slide_type": "slide"
    }
   },
   "source": [
    "##### 1. ¿Qué es RISE?\n",
    "\n",
    "En lugar de mostrar una larga página web con las celdas, las celdas **se agrupan** en diapositivas. \n",
    "\n",
    "Las distintas celdas pueden ser editadas y ejecutadas *DURANTE LA PRESENTACIÓN*.\n",
    "\n",
    "Se usa la librería de javascript [reveal.js](https://revealjs.com/). \n"
   ]
  },
  {
   "cell_type": "markdown",
   "metadata": {
    "slideshow": {
     "slide_type": "slide"
    }
   },
   "source": [
    "##### 1. ¿Qué es RISE?\n",
    "\n",
    "**RISE = Reveal.js IPython Slide Extension**\n",
    "\n",
    "Es una extensión a los jupyter notebooks que permite transformarlos en una presentación interactiva. "
   ]
  },
  {
   "cell_type": "markdown",
   "metadata": {
    "slideshow": {
     "slide_type": "fragment"
    }
   },
   "source": [
    "Con **herramientas** de *markdown*, <font style=\"color:green\">html</font> y latex: $ e^{i \\pi} + 1 = 0 $\n"
   ]
  },
  {
   "cell_type": "markdown",
   "metadata": {
    "slideshow": {
     "slide_type": "fragment"
    }
   },
   "source": [
    "y python:"
   ]
  },
  {
   "cell_type": "code",
   "execution_count": null,
   "metadata": {
    "slideshow": {
     "slide_type": "fragment"
    }
   },
   "outputs": [],
   "source": [
    "print(\"Hola \\U0001F30E\")"
   ]
  },
  {
   "cell_type": "markdown",
   "metadata": {
    "slideshow": {
     "slide_type": "slide"
    }
   },
   "source": [
    "# 2. ¿Porqué usar RISE?\n"
   ]
  },
  {
   "cell_type": "markdown",
   "metadata": {
    "slideshow": {
     "slide_type": "slide"
    }
   },
   "source": [
    "#### Ventajas\n",
    "\n",
    "* Simplificar la **generación** de material. \n",
    "\n",
    "* Simplificar la **distribución** del material."
   ]
  },
  {
   "cell_type": "markdown",
   "metadata": {
    "slideshow": {
     "slide_type": "fragment"
    }
   },
   "source": [
    "#### Desventajas\n",
    "\n",
    "* RISE funciona sólo con Jupyter Notebook. No funciona con Jupyter Lab ni con Google Colaboratory.\n",
    "* Es completamente interactivo, con todos los riesgos y beneficios que eso representa."
   ]
  },
  {
   "cell_type": "markdown",
   "metadata": {
    "slideshow": {
     "slide_type": "notes"
    }
   },
   "source": [
    "Primero, porque simplifica enormemente la **generación** de material. El jupyter notebook es simultáneamente la presentación, el código, el apunte y texto oficial, y no necesitas actualizar en múltiples lugares. Detesto sacar una captura de pantalla a un trozo de código, porque tendré que estar eternamente actualizando esa imagen. También odio escribir código en cuadros de texto que quedan sin formato y donde siempre se pasa algún error, que no se detecta porque el código no se puede ejecutar.\n",
    "\n",
    "Segundo, porque simplifica la **distribución** del material. La presentación contiene todo lo que la audiencia necesita: explicaciones, imágenes, videos y/o código. Proporcionando un archivo `requirements.txt` es fácil recrear un ambiente con las librerías necesarias para ejecutar el código. Almacenando el jupyter notebook en github, es además fácil compartir el archivo ipynb del jupyter notebook, un html o pdf pre-generado fácil de visualizar o incluso un enlace a un repositorio binder donde la presentación se puede volver a visualizar de manera interactiva. Entregar múltiples opciones le entrega facilidades a la audiencia y permite generar más impacto."
   ]
  },
  {
   "cell_type": "markdown",
   "metadata": {
    "slideshow": {
     "slide_type": "slide"
    }
   },
   "source": [
    "# 3. ¿Qué contenido incluir?"
   ]
  },
  {
   "cell_type": "markdown",
   "metadata": {
    "slideshow": {
     "slide_type": "slide"
    }
   },
   "source": [
    "##### 3. ¿Qué contenido incluir?\n",
    "\n",
    "Puedes mezclar contenido usando las celdas de markdown y código, según necesites: \n",
    "* **Markdown**: texto, latex, imágenes, tablas, etc.\n",
    "* **Código**: código, gráficos simples o interactivos, videos, sonido, iframes, javascript, entre otros."
   ]
  },
  {
   "cell_type": "markdown",
   "metadata": {},
   "source": [
    "\n",
    "Como regla general, si se muestra correctamente en el notebook, se verá bien en la diapositiva. \n",
    "\n",
    "¡Sé creativo! La gracia es precisamente que todo puede ser interactivo."
   ]
  },
  {
   "cell_type": "markdown",
   "metadata": {
    "slideshow": {
     "slide_type": "slide"
    }
   },
   "source": [
    "##### 3.1 GIFs Animados\n",
    "\n",
    "Incluir gifs animados es igual de fácil que incluir imágenes, y suele ayudar a tener apoyos visuales atractivos."
   ]
  },
  {
   "cell_type": "markdown",
   "metadata": {
    "slideshow": {
     "slide_type": "slide"
    }
   },
   "source": [
    "##### 3.2 Gráficos\n",
    "\n",
    "Para mostrar gráficos resulta práctico que no se genere una ventana adicional, sino que se agreguen a la celda de resultados. Esta es una práctica común en jupyter notebook/lab, pero es más importante aún al pensar en las diapositivas."
   ]
  },
  {
   "cell_type": "code",
   "execution_count": null,
   "metadata": {},
   "outputs": [],
   "source": [
    "%matplotlib inline\n",
    "from matplotlib import pyplot as plt\n",
    "import numpy as np\n",
    "\n",
    "with plt.xkcd():\n",
    "    fig = plt.figure(figsize=(14,6))\n",
    "    x = np.linspace(-5,5,num=100)\n",
    "    y = np.abs(np.abs(np.sin(2*x)/x))\n",
    "    plt.plot(x,y)"
   ]
  },
  {
   "cell_type": "markdown",
   "metadata": {
    "slideshow": {
     "slide_type": "slide"
    }
   },
   "source": [
    "##### 3.3 IPython.display"
   ]
  },
  {
   "cell_type": "code",
   "execution_count": null,
   "metadata": {},
   "outputs": [],
   "source": [
    "from IPython.display import Audio, Image, display\n",
    "a = Audio(\"http://www.w3schools.com/html/horse.ogg\")\n",
    "i = Image(filename=\"images/Python.png\", width=100)\n",
    "display(a,i)"
   ]
  },
  {
   "cell_type": "code",
   "execution_count": null,
   "metadata": {},
   "outputs": [],
   "source": [
    "from IPython.display import Javascript\n",
    "Javascript('alert(\"¡¡Tenemos javascript!!\");')"
   ]
  },
  {
   "cell_type": "markdown",
   "metadata": {
    "slideshow": {
     "slide_type": "slide"
    }
   },
   "source": [
    "##### 3.4 Widgets"
   ]
  },
  {
   "cell_type": "code",
   "execution_count": null,
   "metadata": {},
   "outputs": [],
   "source": [
    "%matplotlib inline\n",
    "import ipywidgets as widgets\n",
    "import numpy as np\n",
    "import matplotlib.pyplot as plt\n",
    "\n",
    "@widgets.interact(grado=(0, 9), N_puntos=(5,35))\n",
    "def mi_plot(grado=3, N_puntos=5):    \n",
    "    x = np.linspace(-10, 10, N_puntos)\n",
    "    y = x**grado\n",
    "    plt.figure(figsize=(12,8))\n",
    "    plt.plot(x, y, 'ro-')\n",
    "    plt.grid(True)\n",
    "    plt.show()"
   ]
  },
  {
   "cell_type": "markdown",
   "metadata": {
    "slideshow": {
     "slide_type": "slide"
    }
   },
   "source": [
    "##### 3.5 Tu librería\n",
    "\n",
    "Si tienes una librería (en local, en línea o en pypi) puedes usar la presentación para mostrar como se usa... ¡en vivo!\n",
    "\n",
    "Por ejemplo, un proyecto llamado pypsdier para la simulación de ecuaciones de reacción-difusión de catalizadores inmobilizados"
   ]
  },
  {
   "cell_type": "code",
   "execution_count": null,
   "metadata": {},
   "outputs": [],
   "source": [
    "!pip install git+https://github.com/sebastiandres/pypsdier.git --upgrade"
   ]
  },
  {
   "cell_type": "code",
   "execution_count": null,
   "metadata": {
    "slideshow": {
     "slide_type": "slide"
    }
   },
   "outputs": [],
   "source": [
    "import pypsdier\n",
    "SIM = pypsdier.SimulationInterface()\n",
    "SIM.status()"
   ]
  },
  {
   "cell_type": "code",
   "execution_count": null,
   "metadata": {
    "slideshow": {
     "slide_type": "slide"
    }
   },
   "outputs": [],
   "source": [
    "SIM.load(\"data/pypsdier_example.rde\")\n",
    "SIM.status()"
   ]
  },
  {
   "cell_type": "code",
   "execution_count": null,
   "metadata": {
    "slideshow": {
     "slide_type": "slide"
    }
   },
   "outputs": [],
   "source": [
    "SIM.plot()"
   ]
  },
  {
   "cell_type": "markdown",
   "metadata": {
    "slideshow": {
     "slide_type": "slide"
    }
   },
   "source": [
    "##### 3.6 Clases\n",
    "Al empaquetar tu código con clases, asegúrate de incluir una función `_repr_html_` para poder interactuar nativamente con jupyter notebook (y RISE):"
   ]
  },
  {
   "cell_type": "code",
   "execution_count": null,
   "metadata": {},
   "outputs": [],
   "source": [
    "class Alerta(object):\n",
    "    \n",
    "    def __init__(self, text):\n",
    "        self.text = \"\\U000026A0 - \" + text.upper()\n",
    "\n",
    "    def _repr_html_(self):\n",
    "        return \"<h1 style='color:white;background:red;padding:30px'>\" + self.text + \"</h1>\""
   ]
  },
  {
   "cell_type": "code",
   "execution_count": null,
   "metadata": {},
   "outputs": [],
   "source": [
    "Alerta(\"Comenzar a hablar de RISE\")"
   ]
  },
  {
   "cell_type": "markdown",
   "metadata": {
    "slideshow": {
     "slide_type": "slide"
    }
   },
   "source": [
    "# 4. ¿Cómo usar RISE?"
   ]
  },
  {
   "cell_type": "markdown",
   "metadata": {
    "slideshow": {
     "slide_type": "slide"
    }
   },
   "source": [
    "##### 4.1 ¿Cómo instalar?\n",
    "\n",
    "**Paso 1**: \n",
    "\n",
    "La instalación de la extensión RISE es extremadamente fácil:\n",
    "\n",
    "```bash\n",
    "pip install rise\n",
    "```\n",
    "\n",
    "o\n",
    "\n",
    "```bash\n",
    "conda install -c conda-forge rise\n",
    "```"
   ]
  },
  {
   "cell_type": "markdown",
   "metadata": {
    "slideshow": {
     "slide_type": "slide"
    }
   },
   "source": [
    "Eso hará que se agregue el botón de iniciar presentación (destacado en rojo).\n",
    "\n",
    "![](images/install2.png)"
   ]
  },
  {
   "cell_type": "markdown",
   "metadata": {
    "slideshow": {
     "slide_type": "slide"
    }
   },
   "source": [
    "**Paso 2**: \n",
    "\n",
    "En el menú de jupyter notebook, es necesario seleccionar `View/Cell Toolbar/Slideshow` para que permita configurar el tipo de celda para diapositiva. \n",
    "![](images/install3.png)"
   ]
  },
  {
   "cell_type": "markdown",
   "metadata": {
    "slideshow": {
     "slide_type": "slide"
    }
   },
   "source": [
    "![](images/install4.png)"
   ]
  },
  {
   "cell_type": "markdown",
   "metadata": {
    "slideshow": {
     "slide_type": "slide"
    }
   },
   "source": [
    "##### 4.2 ¿Cómo se configuran las diapositivas?\n",
    "\n",
    "Existen varios tipos de celda con distintas funcionalidades:\n",
    "* `-`: valor por defecto. La celda se muestra con la slide anterior.\n",
    "* `Slide`: inicia una nueva diapositiva (dirección horizontal).\n",
    "* `Sub-slide`: iniciar una nueva sub-diapositiva (dirección vertical).\n",
    "* `Fragment`: se concatena a la celda anterior, pero no se muestra inmediatamente. \n",
    "* `Skip`: no se muestra la celda en las diapositivas.\n",
    "* `Notes`: No se muestra en las diapositivas, sólo se muestra en las notas para el presentador.\n"
   ]
  },
  {
   "cell_type": "markdown",
   "metadata": {
    "slideshow": {
     "slide_type": "slide"
    }
   },
   "source": [
    "![](images/install4.png)"
   ]
  },
  {
   "cell_type": "markdown",
   "metadata": {
    "slideshow": {
     "slide_type": "slide"
    }
   },
   "source": [
    "##### 4.3 ¿Cómo moverse por las slides?\n",
    "\n",
    "Al hacer click en el botón \"Iniciar presentación\", la presentación se iniciará en la celda que esté activa.\n",
    "\n",
    "* Se accede a la próxima diapositiva o fragmento con `Espacio` (o la flecha derecha).\n",
    "* Se retrocede a la diapositiva o fragmento anterior con `Shift Espacio` (o la flecha izquierda).\n",
    "* Se avanza a la próxima sub-diapositiva con `Page Up`.\n",
    "* Se retrocede la sub-diapositiva anterior con `Page Down`.\n",
    "\n",
    "¡O simplemente usar el mouse!"
   ]
  },
  {
   "cell_type": "markdown",
   "metadata": {
    "slideshow": {
     "slide_type": "slide"
    }
   },
   "source": [
    "Existen 2 direcciones: slides (izquierda a derecha) y subslides (arriba a abajo).\n",
    "\n",
    "![](images/revealjs-vertical-slides.gif \"Gif oficial de reveal.js https://revealjs.com/vertical-slides/\")"
   ]
  },
  {
   "cell_type": "markdown",
   "metadata": {
    "slideshow": {
     "slide_type": "subslide"
    }
   },
   "source": [
    "**Personalmente** no uso subslides porque no logro recordar un orden que no sea lineal, y termino saltándome las subslides sin querer."
   ]
  },
  {
   "cell_type": "markdown",
   "metadata": {
    "slideshow": {
     "slide_type": "slide"
    }
   },
   "source": [
    "##### 4.4 ¿Qué opciones hay?\n",
    "\n",
    "Existen múltiples funcionalides accesibles con el teclado durante la presentación, pero las principales a recordar son:\n",
    "* `,`: ocultar los botones.\n",
    "* `w`: Mostrar orden de diapositivas.\n",
    "* `?`: ver todos los atajos de teclado."
   ]
  },
  {
   "cell_type": "markdown",
   "metadata": {
    "slideshow": {
     "slide_type": "slide"
    }
   },
   "source": [
    "##### 4.5 Tamaño de fuente e imágenes\n",
    "\n",
    "Un problema común es que al conectar el computador a otra pantalla o datashow, no se alcanza a ver en la diapositiva todo el código, texto o imagen. \n",
    "\n",
    "`Ctrl +` y `Ctrl -` permiten regular el tamaño (`⌘+`y `⌘-` en Mac), de la misma manera que regulas el tamaño de una página web.\n",
    "\n",
    "![](2021-08-01-tutorial-rise-parte-1/tamano.gif)"
   ]
  },
  {
   "cell_type": "markdown",
   "metadata": {
    "slideshow": {
     "slide_type": "slide"
    }
   },
   "source": [
    "##### 4.6 ¿Dónde están las notas del presentador?\n",
    "\n",
    "Puedes abrir las notas del presentador presionando `t`.\n",
    "\n",
    "Para poder usar las notas del presentador necesitas tener al menos 2 pantallas.\n",
    "\n",
    "![](images/notas_presentador.gif)"
   ]
  },
  {
   "cell_type": "markdown",
   "metadata": {
    "slideshow": {
     "slide_type": "slide"
    }
   },
   "source": [
    "# 5. ¿Cómo comenzar?"
   ]
  },
  {
   "cell_type": "markdown",
   "metadata": {
    "slideshow": {
     "slide_type": "slide"
    }
   },
   "source": [
    "##### 5. ¿Cómo comenzar?\n",
    "\n",
    "Existen 3 formas de presentar con jupyter notebook + RISE:\n",
    "\n",
    "* Crea un nuevo notebook.\n",
    "* Recicla un notebook existente. \n",
    "* Recicla una presentación de PowerPoint."
   ]
  },
  {
   "cell_type": "markdown",
   "metadata": {
    "slideshow": {
     "slide_type": "slide"
    }
   },
   "source": [
    "##### 5.1 y 5.2 Creando o reciclando un notebook\n",
    "\n",
    "Para cada celda (markdown o código) que tengas en el jupyter notebook, indica que **tipo de diapositiva** deberá usar.\n",
    "\n",
    "Usar principalmente:\n",
    "* `Slide`: inicia una nueva diapositiva (dirección horizontal).\n",
    "* `-`: Se concantena a la interior inmediatamente.\n",
    "* `Fragment`: se concatena a la celda anterior, pero con una animación (no inmediata).\n",
    "\n",
    "Evitar:\n",
    "* `Skip`: no se muestra la celda en las diapositivas.\n",
    "* `Notes`: No se muestra en las diapositivas, sólo se muestra en las notas para el presentador.\n",
    "* `Sub-slide`: iniciar una nueva sub-diapositiva (dirección vertical)."
   ]
  },
  {
   "cell_type": "markdown",
   "metadata": {
    "slideshow": {
     "slide_type": "slide"
    }
   },
   "source": [
    "##### 5.3 Convirtiendo una presentaciones de PowerPoint\n",
    "\n",
    "Si ya tienes una presentación pptx, puedes convertirla con una herramienta en línea.\n",
    "No es perfecta, pero te ahorrará un buen tiempo de copiar y pegar texto.\n",
    "\n",
    "[https://share.streamlit.io/sebastiandres/streamlit_ppt2rise/main](https://share.streamlit.io/sebastiandres/streamlit_ppt2rise/main)"
   ]
  },
  {
   "cell_type": "markdown",
   "metadata": {
    "slideshow": {
     "slide_type": "slide"
    }
   },
   "source": [
    "El funcionamiento es el siguiente. Supongamos que tienes una presentación que necesitas convertir: `simple.pptx`\n",
    "\n",
    "![Simple.pptx](images/original_pptx.gif)\n",
    "simple.pptx"
   ]
  },
  {
   "cell_type": "markdown",
   "metadata": {
    "slideshow": {
     "slide_type": "slide"
    }
   },
   "source": [
    "Primero que nada, en el sitio debes cargar la presentación, esperar que se convierta y descargar el notebook + RISE equivalente:\n",
    "\n",
    "![](images/ppt2rise.gif)\n"
   ]
  },
  {
   "cell_type": "markdown",
   "metadata": {
    "slideshow": {
     "slide_type": "slide"
    }
   },
   "source": [
    "\n",
    "Después de descargar y descomprimir, al lanzar el notebook en jupyter la presentación debería comenzar de inmediato: \n",
    "\n",
    "![](images/slides_ipynb.gif)"
   ]
  },
  {
   "cell_type": "markdown",
   "metadata": {
    "slideshow": {
     "slide_type": "slide"
    }
   },
   "source": [
    "# 6. ¿Cómo personalizar?"
   ]
  },
  {
   "cell_type": "markdown",
   "metadata": {
    "slideshow": {
     "slide_type": "slide"
    }
   },
   "source": [
    "##### 6.1 Metadata del notebook\n",
    "Todas las configuraciones de RISE se realizan **editando la metadata del notebook**. \n",
    "\n",
    "Para ello, tienes que ir a `Edit/Edit notebook metadata` y agregar la(s) opcion(es) deseadas.\n",
    "\n",
    "![Metadata](images/metadata.gif)"
   ]
  },
  {
   "cell_type": "markdown",
   "metadata": {
    "slideshow": {
     "slide_type": "slide"
    }
   },
   "source": [
    "##### 6.1 Metadata del notebook\n",
    "\n",
    "La metadata es un diccionario json con las distintas opciones de todo el notebook. Por defecto, no trae ninguna opción cargada de RISE. Por eso, tenemos que **agregar** las opciones que se quieren configurar:\n",
    "\n",
    "```json\n",
    " \"rise\": {\n",
    "             \"opcion_1\": valor_opcion_1,\n",
    "                      ...\n",
    "             \"opcion_n\": valor_opcion_n,\n",
    "         }\n",
    "````\n",
    "\n",
    "\n",
    "**Observación importante**: \n",
    "\n",
    "Cada vez que editas la metadata, es necesario cerrar (apagar) el notebook y volver a abrirlo para que se recarguen las opciones. \n"
   ]
  },
  {
   "cell_type": "markdown",
   "metadata": {
    "slideshow": {
     "slide_type": "slide"
    }
   },
   "source": [
    "##### 6.2 Eligiendo un tema\n",
    "\n",
    "El tema de la presentación controla el aspecto general de la presentación. \n",
    "\n",
    "\n",
    "En la metadata del notebook se agrega la opción de \"theme\" con el nombre del tema deseado:\n",
    "\n",
    "```json\n",
    " \"rise\": {\"theme\": \"sky\"}\n",
    "````\n",
    "\n",
    "Existen 11 opciones, que se heredan de la librería [revealjs](https://revealjs.com/themes/):\n",
    "\n",
    "* **black**: Fondo negro, letras blancas, links azules.\n",
    "* **white**: Fondo blanco, letras negras, links celestes.\n",
    "* **league**: Fondo gris, letras blancas, links celestes.\n",
    "* **sky**: Fondo celeste, letras oscuras, links azules. \n",
    "* **beige**: Fondo beige, letras oscuras, links cafés.\n",
    "* **simple**: Fondo blanco, letras negras, links azules. \n",
    "* **serif**: Fondo café, letras grises, links cafés. \n",
    "* **night**: Fondo negro, letras blancas, links naranjos. \n",
    "* **blood**: Fondo oscuro, letras blancas, links rojos.\n",
    "* **moon**: Fondo azul oscuro, letras grises, links azules.\n",
    "* **solarized**: Fondo blanco crema, letras verde oscuro, links azules."
   ]
  },
  {
   "cell_type": "markdown",
   "metadata": {
    "slideshow": {
     "slide_type": "slide"
    }
   },
   "source": [
    "![Themes](images/themes.png)\n",
    "\n",
    "La imagen fue compilada por el siguiente [blog](https://dev.to/emmabostian/how-to-build-a-captivating-presentation-using-html-css--javascript-nno)."
   ]
  },
  {
   "cell_type": "markdown",
   "metadata": {
    "slideshow": {
     "slide_type": "slide"
    }
   },
   "source": [
    "##### 6.3 Eligiendo una transición\n",
    "El tipo de transición entre slides se define de manera similar. En la metadata del notebook se agrega la opción de \"transition\" con el nombre de la transición deseada:\n",
    "\n",
    "```json\n",
    " \"rise\": {\"transition\": \"zoom\"}\n",
    "```\n",
    "\n",
    "Las opciones, heredadas de las [transiciones](https://revealjs.com/transitions/) existentes en la librería revealjs, son:\n",
    "\n",
    "* **none**: Sin animación.\n",
    "* **fade**:\tDesaparecer\n",
    "* **slide**: Deslizar lateralmente.\n",
    "* **convex**: Animar con ángulo convexo.\n",
    "* **concave**: Animar con ángulo convexo.\n",
    "* **zoom**: Animar para que la diapositiva siguiente crezca desde el centro de la pantalla."
   ]
  },
  {
   "cell_type": "markdown",
   "metadata": {
    "slideshow": {
     "slide_type": "slide"
    }
   },
   "source": [
    "Los tipos de transiciones se muestran en esta animación:\n",
    "![Transitions](images/transitions.gif)"
   ]
  },
  {
   "cell_type": "markdown",
   "metadata": {
    "slideshow": {
     "slide_type": "slide"
    }
   },
   "source": [
    "##### 6.4 Definiendo una imagen de fondos\n",
    "\n",
    "Simplemente, usar:\n",
    "\n",
    "```json\n",
    "\"rise\": {\n",
    "     \"backimage\": \"mybackimage.png\",\n",
    " }\n",
    "}\n",
    "```\n",
    "\n",
    "Esta opción es útil si quieres un fondo personalizado, como a veces se exige en algunos congresos. Como es habitual al manejar imágenes, conviene usar archivos png con fondo transparente para que se integre bien con el theme elegido.\n",
    "\n",
    "![](2021-08-02-tutorial-rise-parte-2/background.gif)\n"
   ]
  },
  {
   "cell_type": "markdown",
   "metadata": {
    "slideshow": {
     "slide_type": "slide"
    }
   },
   "source": [
    "##### 6.5 Definiendo header y footer:\n",
    "Simplemente, usar:\n",
    "\n",
    "```json\n",
    "\"rise\": {\n",
    "     \"header\": \"<h1>Hola</h1>\",\n",
    "     \"footer\": \"<h3>Mundo</h3>\"\n",
    " }\n",
    "}\n",
    "```\n",
    "\n",
    "Puedes usar `<br>` y `&nbsp;` para introducir saltos de línea y espacios en blanco, respectivamente.\n",
    "\n",
    "![](2021-08-02-tutorial-rise-parte-2/header_footer.gif)\n",
    "\n"
   ]
  },
  {
   "cell_type": "markdown",
   "metadata": {
    "slideshow": {
     "slide_type": "slide"
    }
   },
   "source": [
    "##### 6.6 Lanzar RISE de manera automática\n",
    "\n",
    "En la metadata del notebook se agrega la opción de \"autolaunch\" con valor `true` (todo en minúsculas, ¡es verdadero de javascript, no de Python!):\n",
    "\n",
    "```json\n",
    " \"rise\": {\"autolaunch\": true}\n",
    "````\n",
    "\n",
    "Al publicar tu jupyter notebook con mybinder.org, se mostrará en modo presentación automáticamente.\n",
    "\n",
    "![Metadata](images/autolaunch.gif)"
   ]
  },
  {
   "cell_type": "markdown",
   "metadata": {
    "slideshow": {
     "slide_type": "slide"
    }
   },
   "source": [
    "##### 6.7 Pizarra\n",
    "\n",
    "Es posible activar una pizarra (chalkboard) para realizar anotaciones durante la presentación.\n",
    "\n",
    "Para eso, en Edit/Edit Notebook Metadata, es necesario agregar el siguiente texto a la metadata del jupyter notebook:\n",
    "\n",
    "```json\n",
    "{\n",
    " ...\n",
    " \"rise\": {\"enable_chalkboard\": true}\n",
    "}\n",
    "```\n",
    "\n",
    "Durante la presentación se puede utilizar la pizarra haciendo click en los íconos, que permiten dibujar en una pizarra o sobre las diapositivas.\n",
    "\n",
    "Es posible cambiar de color de lapiz presionando `s` y `q`. Se puede borrar la pizarra con `-`.\n",
    "\n",
    "Las anotaciones se preservan incluso al cerrar el modo presentación. Sin embargo, no se guardan al cerrar el notebook."
   ]
  },
  {
   "cell_type": "markdown",
   "metadata": {
    "slideshow": {
     "slide_type": "slide"
    }
   },
   "source": [
    "## Importante consejo final\n",
    "\n",
    "Tantas opciones pueden ser sobrecogedoras y difíciles de recordar. Como no se puede tener comentarios en un json, resulta práctico tener guardadas todas las opciones y simplemente agregar un `_` antes de las opciones que no se desean usar."
   ]
  },
  {
   "cell_type": "markdown",
   "metadata": {
    "slideshow": {
     "slide_type": "fragment"
    }
   },
   "source": [
    "```json\n",
    "\"rise\": {\n",
    "        \"autolaunch\": true,\n",
    "        \"enable_chalkboard\": true\n",
    "        \"theme\": \"black\",\n",
    "        \"transition\": \"zoom\",\n",
    "        \"_header\": \"<h1>PRESENTATION NAME // EVENTs</h1>\",\n",
    "        \"_footer\": \"<h3>NAME, DATE</h3>\",\n",
    "        \"_backimage\": \"path/to/mybackimage.png\",\n",
    "        \"_theme_options\": [ \"black\", \"white\", \"league\", \"beige\", \n",
    "                           \"sky\", \"night\", \"serif\"], \n",
    "        \"_transition_options\": [\"none\", \"fade\", \"slide\", \"convex\", \"concave\", \"zoom\"],\n",
    "        }\n",
    "```"
   ]
  },
  {
   "cell_type": "markdown",
   "metadata": {
    "slideshow": {
     "slide_type": "slide"
    }
   },
   "source": [
    "![](images/options.gif)"
   ]
  },
  {
   "cell_type": "markdown",
   "metadata": {
    "slideshow": {
     "slide_type": "slide"
    }
   },
   "source": [
    "# 7. ¿Cómo compartir?"
   ]
  },
  {
   "cell_type": "markdown",
   "metadata": {
    "slideshow": {
     "slide_type": "slide"
    }
   },
   "source": [
    "##### 7. ¿Cómo puedo compartir la presentación?\n",
    "\n",
    "Muchas opciones: \n",
    "* Repositorio en línea\n",
    "* mybinder\n",
    "* html\n",
    "* pdf"
   ]
  },
  {
   "cell_type": "markdown",
   "metadata": {
    "slideshow": {
     "slide_type": "slide"
    }
   },
   "source": [
    "##### 7.1 Repositorio\n",
    "\n",
    "No trabajes en local: usa git + repositorio en línea: github, bitbucket, gitlab u otros.\n",
    "\n",
    "Incluye: \n",
    "* README.md: Explica para qué sirve y cómo usarlo.\n",
    "* `requirements.txt`: librerías que se requieren en el notebook.\n",
    "* Todo el código, datos e imágenes.\n",
    "\n",
    "En github, al activar \"Gitub Pages\" las páginas html de tu repo pueden consultarse y navegarse.\n",
    "\n",
    "El archivo de `nombre_repo/ruta_carpetas/nombre_archivo.html` se visualizará en `https://nombre_usuario.github.io/nombre_repo/ruta_carpetas/nombre_archivo.html`."
   ]
  },
  {
   "cell_type": "markdown",
   "metadata": {
    "slideshow": {
     "slide_type": "slide"
    }
   },
   "source": [
    "##### 7.2 mybinder\n",
    "\n",
    "[Binder](https://mybinder.org) es un servicio que permite lanzar un jupyter notebook en el navegador y en la nube, sin consumir recursos de tu computador y de manera completamente gratuita. \n",
    "\n",
    "Resulta práctico para que otras personas pueden ver la presentación de **manera interactiva sin tener que instalar** nada en su computador, ¡incluso desde un smartphone o tablet!\n",
    "\n",
    "Para usar mybinder, debes tener tu repositorio en github. "
   ]
  },
  {
   "cell_type": "markdown",
   "metadata": {
    "slideshow": {
     "slide_type": "slide"
    }
   },
   "source": [
    "En [Binder](https://mybinder.org) puedes introducir los distintos parámetros:\n",
    "* Usuario github: **nombre_usuario**\n",
    "* Nombre repositorio: **nombre_repositorio**\n",
    "* Nombre de la rama del repositorio: **nombre_rama**\n",
    "* Ruta al archivo: **ruta_carpetas**\n",
    "* Nombre del archivo: **nombre_archivo.ipynb**\n",
    "* En la rama, en el directorio principal, debe existir el archivo `requirements.txt` \n",
    "\n",
    "La siguiente página mostrará tu notebook:\n",
    "```\n",
    "https://mybinder.org/v2/gh/nombre_usuario/nombre_repositorio/nombre_rama?filepath=ruta_carpetas/nombre_archivo.ipynb\n",
    "```\n",
    "\n",
    "Incluirá la extensión RISE si la colocaste en los `requirements.txt`. \n"
   ]
  },
  {
   "cell_type": "markdown",
   "metadata": {
    "slideshow": {
     "slide_type": "slide"
    }
   },
   "source": [
    "##### 7.3 HTML\n",
    "\n",
    "En el terminal:\n",
    "\n",
    "```\n",
    "jupyter nbconvert --to slides ruta_carpeta/nombre_archivo.ipynb\n",
    "```\n",
    "\n",
    "Se generará un archivo html estático de tu presentación, con el nombre `ruta_carpeta/nombre_archivo.slides.html`"
   ]
  },
  {
   "cell_type": "markdown",
   "metadata": {
    "slideshow": {
     "slide_type": "slide"
    }
   },
   "source": [
    "##### 7.4 PDF\n",
    "\n",
    "Se requieren 3 pasos:\n",
    "\n",
    "1.  Genera las diapositivas en html, usando nbconvert, para que queden \"activas\":\n",
    "```\n",
    "jupyter nbconvert --to slides ruta_carpeta/nombre_archivo.ipynb --post serve\n",
    "```\n",
    "\n",
    "  Se abrirá una página web en el navegador, en la dirección `http://127.0.0.1:8000/nombre_archivo.slides.html#/`\n",
    "\n",
    "2. Edita la ruta, para que sea `http://127.0.0.1:8000/nombre_archivo.slides.html?print-pdf`. \n",
    "\n",
    "3. Finalmente, guarda la página web como pdf."
   ]
  },
  {
   "cell_type": "markdown",
   "metadata": {
    "slideshow": {
     "slide_type": "slide"
    }
   },
   "source": [
    "##### 7.5 Todas las anteriores\n",
    "\n",
    "Incluye un archivo html con todas las opciones, y deja que el usuario elija:\n",
    "\n",
    "![](images/indexhtml.png)"
   ]
  },
  {
   "cell_type": "markdown",
   "metadata": {
    "slideshow": {
     "slide_type": "slide"
    }
   },
   "source": [
    "# 8. Consejos Finales"
   ]
  },
  {
   "cell_type": "markdown",
   "metadata": {
    "slideshow": {
     "slide_type": "slide"
    }
   },
   "source": [
    "##### 8.1 ¿Cómo puedo configurar texto e imagen?\n",
    "\n",
    "Para mostrar columnas mezclando texto e imagenes, simplemente usamos un poco de html:"
   ]
  },
  {
   "cell_type": "markdown",
   "metadata": {
    "slideshow": {
     "slide_type": "-"
    }
   },
   "source": [
    "```html\n",
    "<div>\n",
    "    <div style=\"display: inline-block;  width: 40%;\">\n",
    "Lorem ipsum dolor sit amet, consectetur adipiscing elit, sed do eiusmod tempor incididunt \n",
    "ut labore et dolore magna aliqua. Ut enim ad minim veniam, quis nostrud exercitation ullamco \n",
    "laboris nisi ut aliquip ex ea commodo consequat. Duis aute irure dolor in reprehenderit in \n",
    "voluptate velit esse cillum dolore eu fugiat nulla pariatur. Excepteur sint occaecat cupidatat \n",
    "non proident, sunt in culpa qui officia deserunt mollit anim id est laborum.\n",
    "    </div>\n",
    "    <div style=\"display: inline-block; vertical-align: text-bottom; width: 40%;\">\n",
    "        <img src=\"images/2columns.gif\" alt=\"LoreIpsum\">\n",
    "    </div>\n",
    "</div>\n",
    "```"
   ]
  },
  {
   "cell_type": "markdown",
   "metadata": {
    "slideshow": {
     "slide_type": "slide"
    }
   },
   "source": [
    "<div>\n",
    "    <div style=\"display: inline-block;  width: 40%;\">\n",
    "Lorem ipsum dolor sit amet, consectetur adipiscing elit, sed do eiusmod tempor incididunt ut labore et dolore magna aliqua. Ut enim ad minim veniam, quis nostrud exercitation ullamco laboris nisi ut aliquip ex ea commodo consequat. Duis aute irure dolor in reprehenderit in voluptate velit esse cillum dolore eu fugiat nulla pariatur. Excepteur sint occaecat cupidatat non proident, sunt in culpa qui officia deserunt mollit anim id est laborum.\n",
    "    </div>\n",
    "    <div style=\"display: inline-block; vertical-align: text-bottom; width: 19%;\">\n",
    "    </div>\n",
    "    <div style=\"display: inline-block; vertical-align: text-bottom; width: 40%;\">\n",
    "        <img src=\"images/2columns.gif\" alt=\"LoreIpsum\">\n",
    "    </div>\n",
    "</div>"
   ]
  },
  {
   "cell_type": "markdown",
   "metadata": {
    "slideshow": {
     "slide_type": "slide"
    }
   },
   "source": [
    "Consejo: **keep it simple**. \n",
    "\n",
    "Gastar 1 hora en una diapositiva que mostrarás 1 minuto *puede* ser una mala inversión."
   ]
  },
  {
   "cell_type": "markdown",
   "metadata": {
    "slideshow": {
     "slide_type": "slide"
    }
   },
   "source": [
    "##### 7.2 Animaciones complejas\n",
    "\n",
    "Reveal.js soporta animaciones bastante complejas. \n",
    "\n",
    "Creo que es mejor mantener simple, pero siempre puedes buscar en \n",
    "https://revealjs.com/"
   ]
  },
  {
   "cell_type": "markdown",
   "metadata": {
    "slideshow": {
     "slide_type": "slide"
    }
   },
   "source": [
    "##### Animando framentos\n",
    "Usando el código\n",
    "```html\n",
    "<p class=\"fragment\">Fade in</p>\n",
    "<p class=\"fragment fade-out\">Fade out</p>\n",
    "<p class=\"fragment highlight-red\">Highlight red</p>\n",
    "<p class=\"fragment fade-in-then-out\">Fade in, then out</p>\n",
    "<p class=\"fragment fade-up\">Slide up while fading in</p>\n",
    "```\n",
    "Obtenemos:"
   ]
  },
  {
   "cell_type": "markdown",
   "metadata": {
    "slideshow": {
     "slide_type": "-"
    }
   },
   "source": [
    "<p class=\"fragment\">Fade in</p>\n",
    "<p class=\"fragment fade-out\">Fade out</p>\n",
    "<p class=\"fragment highlight-red\">Highlight red</p>\n",
    "<p class=\"fragment fade-in-then-out\">Fade in, then out</p>\n",
    "<p class=\"fragment fade-up\">Slide up while fading in</p>"
   ]
  },
  {
   "cell_type": "markdown",
   "metadata": {
    "slideshow": {
     "slide_type": "slide"
    }
   },
   "source": [
    "##### Animando framentos\n",
    "Usando el código\n",
    "```html\n",
    "<p class=\"fragment\" data-fragment-index=\"3\">Appears last</p>\n",
    "<p class=\"fragment\" data-fragment-index=\"1\">Appears first</p>\n",
    "<p class=\"fragment\" data-fragment-index=\"2\">Appears second</p>\n",
    "```\n",
    "Obtenemos:"
   ]
  },
  {
   "cell_type": "markdown",
   "metadata": {
    "slideshow": {
     "slide_type": "-"
    }
   },
   "source": [
    "<p class=\"fragment\" data-fragment-index=\"3\">Appears last</p>\n",
    "<p class=\"fragment\" data-fragment-index=\"1\">Appears first</p>\n",
    "<p class=\"fragment\" data-fragment-index=\"2\">Appears second</p>"
   ]
  },
  {
   "cell_type": "markdown",
   "metadata": {
    "slideshow": {
     "slide_type": "slide"
    }
   },
   "source": [
    "##### 7.3 Ocultando código\n",
    "\n",
    "A veces quieres ejecutar una celda pero no mostrar largas filas de código. \n",
    "\n",
    "Hay 2 formas de hacerlo:"
   ]
  },
  {
   "cell_type": "markdown",
   "metadata": {
    "slideshow": {
     "slide_type": "fragment"
    }
   },
   "source": [
    "1. **Simple**: creando función auxiliar y ejecutándola.\n",
    "2. **Técnica**: usando un poco de magia de jupyter notebook."
   ]
  },
  {
   "cell_type": "markdown",
   "metadata": {
    "slideshow": {
     "slide_type": "slide"
    }
   },
   "source": [
    "**Opción Simple**: \n",
    "\n",
    "Podemos definir la función en un archivo, y luego importarla y ejecutarla:"
   ]
  },
  {
   "cell_type": "code",
   "execution_count": null,
   "metadata": {},
   "outputs": [],
   "source": [
    "from mi_carpeta import mi_script\n",
    "mi_script.mi_grafico(order=1, figsize=(12,8))"
   ]
  },
  {
   "cell_type": "markdown",
   "metadata": {
    "slideshow": {
     "slide_type": "slide"
    }
   },
   "source": [
    "Si queremos mostrar la función, usamos un poco de bash:"
   ]
  },
  {
   "cell_type": "code",
   "execution_count": null,
   "metadata": {},
   "outputs": [],
   "source": [
    "!ls ./mi_carpeta"
   ]
  },
  {
   "cell_type": "code",
   "execution_count": null,
   "metadata": {},
   "outputs": [],
   "source": [
    "!cat mi_carpeta/mi_script.py"
   ]
  },
  {
   "cell_type": "markdown",
   "metadata": {
    "slideshow": {
     "slide_type": "slide"
    }
   },
   "source": [
    "**Opción Técnica**: \n",
    "\n",
    "Usando una función específica para ocultar código, creada con una mezcla de html y javascript."
   ]
  },
  {
   "cell_type": "code",
   "execution_count": null,
   "metadata": {},
   "outputs": [],
   "source": [
    "def toggle_cell_code(button_id):\n",
    "    \"\"\"\n",
    "    Adds a button to toggle (show/hide) the code cell but not the output. \n",
    "    \n",
    "    Parameters\n",
    "    ----------\n",
    "    button_id : str\n",
    "        An identifier for cells that will hide/show when button is pressed.\n",
    "    \"\"\"\n",
    "    \n",
    "    from IPython.display import display_html\n",
    "    my_html = '''\n",
    "    <button type=\"button\" id=\"%s\" onclick=\"code_toggle('%s')\">Código</button>\n",
    "    <script>\n",
    "    function code_toggle(my_id) {\n",
    "        // get the parent element for the cell code and output\n",
    "        var p = $(\"#\"+my_id);\n",
    "        if (p.length==0) return;\n",
    "        while (!p.hasClass(\"cell\")) {\n",
    "            p = p.parent();\n",
    "            if (p.prop(\"tagName\") ==\"body\") return;\n",
    "        }\n",
    "    // get the cell code and toggle its value\n",
    "    var cell_code = p.find(\".input\");\n",
    "    cell_code.toggle();\n",
    "    }\n",
    "    </script>\n",
    "    ''' %(button_id, button_id)\n",
    "    return display_html(my_html, raw=True)"
   ]
  },
  {
   "cell_type": "markdown",
   "metadata": {
    "slideshow": {
     "slide_type": "slide"
    }
   },
   "source": [
    "Y así se ve en el código:"
   ]
  },
  {
   "cell_type": "code",
   "execution_count": null,
   "metadata": {},
   "outputs": [],
   "source": [
    "# Botón para esconder el código\n",
    "toggle_cell_code(\"un_string_unico_y_reconocible\")\n",
    "\n",
    "# Código para graficar\n",
    "import numpy as np\n",
    "import matplotlib.pyplot as plt\n",
    "\n",
    "# Fixing random state for reproducibility\n",
    "np.random.seed(19680801)\n",
    "\n",
    "N = 50\n",
    "x = np.random.rand(N)\n",
    "y = np.random.rand(N)\n",
    "colors = np.random.rand(N)\n",
    "area = (30 * np.random.rand(N))**2  # 0 to 15 point radii\n",
    "\n",
    "plt.figure(figsize=(20,14))\n",
    "plt.scatter(x, y, s=area, c=colors, alpha=0.5)\n",
    "plt.show()"
   ]
  },
  {
   "cell_type": "markdown",
   "metadata": {
    "slideshow": {
     "slide_type": "slide"
    }
   },
   "source": [
    "##### 7.4 ¿Cómo puedo hacer actividades interactivas?\n",
    "\n",
    "Para incluir actividades interactivas, como las que se pueden hacer con https://www.mentimeter.com/, https://kahoot.com/ o https://quizizz.com/ (entre otros), es posible tomar varios caminos:"
   ]
  },
  {
   "cell_type": "markdown",
   "metadata": {
    "slideshow": {
     "slide_type": "fragment"
    }
   },
   "source": [
    "* **Simple**: Colocar un código QR para que la audiencia acceda desde sus smartphones. Luego simplemente te cambias a la página correspondiente para mirar los resultados y compartirlos en pantalla. \n",
    "\n",
    "* **Técnica**: Incrustar la página web de la actividad mediante `IFrames`. Desaconsejado, porque cada hay más restricciones a IFrames."
   ]
  },
  {
   "cell_type": "code",
   "execution_count": null,
   "metadata": {
    "slideshow": {
     "slide_type": "slide"
    }
   },
   "outputs": [],
   "source": [
    "from IPython.display import IFrame\n",
    "IFrame(\"https://www.pylatam.org/\", width=1200, height=600)"
   ]
  },
  {
   "cell_type": "code",
   "execution_count": null,
   "metadata": {
    "slideshow": {
     "slide_type": "slide"
    }
   },
   "outputs": [],
   "source": [
    "from IPython.display import IFrame\n",
    "IFrame(\"https://www.google.com\", width=1200, height=600) "
   ]
  },
  {
   "cell_type": "markdown",
   "metadata": {
    "slideshow": {
     "slide_type": "slide"
    }
   },
   "source": [
    "##### 7.5 Encuestas\n",
    "\n",
    "¡No desaproveches la oportunidad de aprender de tu audiencia! Termina con una encuesta.\n",
    "\n",
    "<div>\n",
    "    <div style=\"display: inline-block;  width: 70%;\">\n",
    "        <ul>\n",
    "            <li> ¿Qué te pareció la charla? Evaluar de 1 a 5. </li>\n",
    "            <li> ¿Qué le agregarías a la charla? </li>\n",
    "            <li> ¿Qué le sacarías a la charla? </li>\n",
    "        </ul>\n",
    "        <br><br><br><br><br><br>\n",
    "    </div>\n",
    "    <div style=\"display: inline-block; vertical-align: text-bottom; width: 20%;\">\n",
    "        <img src=\"images/qr.png\" alt=\"LoreIpsum\">\n",
    "        Encuesta de la Charla<br>https://bit.ly/3DnrbN6\n",
    "    </div>\n",
    "</div>"
   ]
  },
  {
   "cell_type": "markdown",
   "metadata": {
    "slideshow": {
     "slide_type": "slide"
    }
   },
   "source": [
    "# ¡Muchas gracias!\n",
    "\n",
    "\n",
    "<div>\n",
    "    <div style=\"display: inline-block;  width: 70%;\">\n",
    "        Enlaces:\n",
    "        <ul>\n",
    "            <li> Documentación oficial de RISE: <b>https://rise.readthedocs.io/</b> </li>\n",
    "            <li> Mi blog: <b>sebastiandres.xyz</b> </li>\n",
    "            <li> Charla en PyCon Colombia 2020 y otras voladuras: <b>https://sebastiandres.github.io/</b></li>\n",
    "        </ul>\n",
    "        <br><br><br><br><br>\n",
    "    </div>\n",
    "    <div style=\"display: inline-block; vertical-align: text-bottom; width: 20%;\">\n",
    "        <img src=\"images/qr.png\" alt=\"LoreIpsum\">\n",
    "        Encuesta de la Charla<br>https://bit.ly/3DnrbN6\n",
    "    </div>\n",
    "</div>"
   ]
  },
  {
   "cell_type": "markdown",
   "metadata": {
    "slideshow": {
     "slide_type": "skip"
    }
   },
   "source": [
    "&nbsp;"
   ]
  },
  {
   "cell_type": "code",
   "execution_count": null,
   "metadata": {
    "slideshow": {
     "slide_type": "skip"
    }
   },
   "outputs": [],
   "source": []
  }
 ],
 "metadata": {
  "celltoolbar": "Slideshow",
  "kernelspec": {
   "display_name": "Python 3",
   "language": "python",
   "name": "python3"
  },
  "language_info": {
   "codemirror_mode": {
    "name": "ipython",
    "version": 3
   },
   "file_extension": ".py",
   "mimetype": "text/x-python",
   "name": "python",
   "nbconvert_exporter": "python",
   "pygments_lexer": "ipython3",
   "version": "3.7.4"
  },
  "nbTranslate": {
   "displayLangs": [
    "*"
   ],
   "hotkey": "alt-t",
   "langInMainMenu": true,
   "sourceLang": "en",
   "targetLang": "fr",
   "useGoogleTranslate": true
  },
  "rise": {
   "_theme_options": [
    "black",
    "white",
    "league",
    "beige",
    "sky",
    "night",
    "serif"
   ],
   "_transition_options": [
    "none",
    "fade",
    "slide",
    "convex",
    "concave",
    "zoom"
   ],
   "autolaunch": true,
   "backimage": "images/pycon-latam-background.png",
   "enable_chalkboard": true,
   "footer": "<h3 style='margin-left:225px;margin-bottom:40px;color:grey;'>Sebastián Flores, Agosto 2021</h3>",
   "header": "<h3 style='margin-left:10px;color:grey;'>Presentaciones interactivas con Jupyter Notebook + RISE</h3>",
   "theme": "simple",
   "transition": "slide"
  },
  "varInspector": {
   "cols": {
    "lenName": 16,
    "lenType": 16,
    "lenVar": 40
   },
   "kernels_config": {
    "python": {
     "delete_cmd_postfix": "",
     "delete_cmd_prefix": "del ",
     "library": "var_list.py",
     "varRefreshCmd": "print(var_dic_list())"
    },
    "r": {
     "delete_cmd_postfix": ") ",
     "delete_cmd_prefix": "rm(",
     "library": "var_list.r",
     "varRefreshCmd": "cat(var_dic_list()) "
    }
   },
   "types_to_exclude": [
    "module",
    "function",
    "builtin_function_or_method",
    "instance",
    "_Feature"
   ],
   "window_display": false
  }
 },
 "nbformat": 4,
 "nbformat_minor": 4
}
