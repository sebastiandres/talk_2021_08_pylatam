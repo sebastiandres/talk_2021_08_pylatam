{
 "cells": [
  {
   "cell_type": "markdown",
   "metadata": {},
   "source": [
    "&nbsp;"
   ]
  },
  {
   "cell_type": "markdown",
   "metadata": {
    "slideshow": {
     "slide_type": "slide"
    }
   },
   "source": [
    "# Presentaciones Interactivas con Jupyter Notebook + RISE <br> *Todo lo que necesitas saber en 30 minutos*\n",
    "\n",
    "## Sebastián Flores\n",
    "### 27 Agosto, PyCon Latam 2021"
   ]
  },
  {
   "cell_type": "markdown",
   "metadata": {
    "slideshow": {
     "slide_type": "slide"
    }
   },
   "source": [
    "<div>\n",
    "    <div style=\"display: inline-block;  width: 50%;\">\n",
    "        <ul>\n",
    "            <li> Sebastián Flores </li>\n",
    "            <li> Matemática, Computación, Educación </li>\n",
    "            <li> Python, javascript, html </li>\n",
    "            <li> sebastiandres.xyz </li>\n",
    "        </ul>\n",
    "    </div>\n",
    "    <div style=\"display: inline-block; vertical-align: text-bottom; width: 30%;\">\n",
    "        <img src=\"images/pycon_2020.jpeg\" alt=\"PyCon 2020\">\n",
    "    </div>\n",
    "</div>"
   ]
  },
  {
   "cell_type": "markdown",
   "metadata": {
    "slideshow": {
     "slide_type": "slide"
    }
   },
   "source": [
    "1. ¿Qué es RISE?\n",
    "2. ¿Porqué usar RISE?\n",
    "3. ¿Qué incluir?\n",
    "4. ¿Cómo usar RISE?\n",
    "5. ¿Cómo comenzar?\n",
    "6. ¿Cómo personalizar?\n",
    "7. ¿Cómo compartir?\n",
    "8. Consejos finales"
   ]
  },
  {
   "cell_type": "markdown",
   "metadata": {
    "slideshow": {
     "slide_type": "slide"
    }
   },
   "source": [
    "# 1. ¿Qué es RISE?\n"
   ]
  },
  {
   "cell_type": "markdown",
   "metadata": {
    "slideshow": {
     "slide_type": "slide"
    }
   },
   "source": [
    "##### 1. ¿Qué es RISE?\n",
    "\n",
    "En lugar de mostrar una larga página web con las celdas, las celdas **se agrupan** en diapositivas. \n",
    "\n",
    "Las distintas celdas pueden ser editadas y ejecutadas **DURANTE LA PRESENTACIÓN**.\n",
    "\n",
    "Se usa la librería de javascript [reveal.js](https://revealjs.com/). \n"
   ]
  },
  {
   "cell_type": "markdown",
   "metadata": {
    "slideshow": {
     "slide_type": "slide"
    }
   },
   "source": [
    "##### 1. ¿Qué es RISE?\n",
    "\n",
    "**RISE = Reveal.js IPython Slide Extension**\n",
    "\n",
    "Es una extensión a los jupyter notebooks que permite transformarlos en una presentación interactiva. "
   ]
  },
  {
   "cell_type": "markdown",
   "metadata": {
    "slideshow": {
     "slide_type": "fragment"
    }
   },
   "source": [
    "Con **herramientas** de *markdown*, <font style=\"color:green\">html</font> y latex: $ e^{i \\pi} + 1 = 0 $\n"
   ]
  },
  {
   "cell_type": "markdown",
   "metadata": {
    "slideshow": {
     "slide_type": "fragment"
    }
   },
   "source": [
    "y python:"
   ]
  },
  {
   "cell_type": "code",
   "execution_count": 33,
   "metadata": {
    "slideshow": {
     "slide_type": "fragment"
    }
   },
   "outputs": [
    {
     "name": "stdout",
     "output_type": "stream",
     "text": [
      "Hola 🌎\n"
     ]
    }
   ],
   "source": [
    "print(\"Hola \\U0001F30E\")"
   ]
  },
  {
   "cell_type": "markdown",
   "metadata": {
    "slideshow": {
     "slide_type": "slide"
    }
   },
   "source": [
    "# 2. ¿Porqué usar RISE?\n"
   ]
  },
  {
   "cell_type": "markdown",
   "metadata": {
    "slideshow": {
     "slide_type": "slide"
    }
   },
   "source": [
    "#### Ventajas\n",
    "\n",
    "* Simplificar la **generación** de material. \n",
    "\n",
    "* Simplificar la **distribución** del material."
   ]
  },
  {
   "cell_type": "markdown",
   "metadata": {
    "slideshow": {
     "slide_type": "fragment"
    }
   },
   "source": [
    "#### Desventajas\n",
    "\n",
    "* RISE funciona sólo con Jupyter Notebook. No funciona con Jupyter Lab ni con Google Colaboratory.\n",
    "* Es completamente interactivo, con todos los riesgos y beneficios que eso representa."
   ]
  },
  {
   "cell_type": "markdown",
   "metadata": {
    "slideshow": {
     "slide_type": "notes"
    }
   },
   "source": [
    "Primero, porque simplifica enormemente la **generación** de material. El jupyter notebook es simultáneamente la presentación, el código, el apunte y texto oficial, y no necesitas actualizar en múltiples lugares. Detesto sacar una captura de pantalla a un trozo de código, porque tendré que estar eternamente actualizando esa imagen. También odio escribir código en cuadros de texto que quedan sin formato y donde siempre se pasa algún error, que no se detecta porque el código no se puede ejecutar.\n",
    "\n",
    "Segundo, porque simplifica la **distribución** del material. La presentación contiene todo lo que la audiencia necesita: explicaciones, imágenes, videos y/o código. Proporcionando un archivo `requirements.txt` es fácil recrear un ambiente con las librerías necesarias para ejecutar el código. Almacenando el jupyter notebook en github, es además fácil compartir el archivo ipynb del jupyter notebook, un html o pdf pre-generado fácil de visualizar o incluso un enlace a un repositorio binder donde la presentación se puede volver a visualizar de manera interactiva. Entregar múltiples opciones le entrega facilidades a la audiencia y permite generar más impacto."
   ]
  },
  {
   "cell_type": "markdown",
   "metadata": {
    "slideshow": {
     "slide_type": "slide"
    }
   },
   "source": [
    "# 3. ¿Qué contenido incluir?"
   ]
  },
  {
   "cell_type": "markdown",
   "metadata": {
    "slideshow": {
     "slide_type": "slide"
    }
   },
   "source": [
    "##### 3. ¿Qué contenido incluir?\n",
    "\n",
    "Puedes mezclar contenido usando las celdas de markdown y código, según necesites: \n",
    "* **Markdown**: texto, latex, imágenes, tablas, etc.\n",
    "* **Código**: código, gráficos simples o interactivos, videos, sonido, iframes, javascript, entre otros."
   ]
  },
  {
   "cell_type": "markdown",
   "metadata": {},
   "source": [
    "\n",
    "Como regla general, si se muestra correctamente en el notebook, se verá bien en la diapositiva. \n",
    "\n",
    "¡Sé creativo! La gracia es precisamente que todo puede ser interactivo."
   ]
  },
  {
   "cell_type": "markdown",
   "metadata": {
    "slideshow": {
     "slide_type": "slide"
    }
   },
   "source": [
    "##### 3.1 GIFs Animados\n",
    "\n",
    "Incluir gifs animados es igual de fácil que incluir imágenes, y suele ayudar a tener apoyos visuales atractivos."
   ]
  },
  {
   "cell_type": "markdown",
   "metadata": {
    "slideshow": {
     "slide_type": "slide"
    }
   },
   "source": [
    "##### 3.2 Gráficos\n",
    "\n",
    "Para mostrar gráficos resulta práctico que no se genere una ventana adicional, sino que se agreguen a la celda de resultados. Esta es una práctica común en jupyter notebook/lab, pero es más importante aún al pensar en las diapositivas."
   ]
  },
  {
   "cell_type": "code",
   "execution_count": 34,
   "metadata": {},
   "outputs": [
    {
     "data": {
      "image/png": "[encoded data removed]",
      "text/plain": [
       "<Figure size 1008x432 with 1 Axes>"
      ]
     },
     "metadata": {},
     "output_type": "display_data"
    }
   ],
   "source": [
    "%matplotlib inline\n",
    "from matplotlib import pyplot as plt\n",
    "import numpy as np\n",
    "\n",
    "with plt.xkcd():\n",
    "    fig = plt.figure(figsize=(14,6))\n",
    "    x = np.linspace(-5,5,num=100)\n",
    "    y = np.abs(np.abs(np.sin(2*x)/x))\n",
    "    plt.plot(x,y)"
   ]
  },
  {
   "cell_type": "markdown",
   "metadata": {
    "slideshow": {
     "slide_type": "slide"
    }
   },
   "source": [
    "##### 3.3 IPython.display"
   ]
  },
  {
   "cell_type": "code",
   "execution_count": 35,
   "metadata": {},
   "outputs": [
    {
     "data": {
      "text/html": [
       "\n",
       "                <audio  controls=\"controls\" >\n",
       "                    <source src=\"data:audio/ogg;base64,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\" type=\"audio/ogg\" />\n",
       "                    Your browser does not support the audio element.\n",
       "                </audio>\n",
       "              "
      ],
      "text/plain": [
       "<IPython.lib.display.Audio object>"
      ]
     },
     "metadata": {},
     "output_type": "display_data"
    },
    {
     "data": {
      "image/png": "[encoded data removed]",
      "text/plain": [
       "<IPython.core.display.Image object>"
      ]
     },
     "metadata": {
      "image/png": {
       "width": 100
      }
     },
     "output_type": "display_data"
    }
   ],
   "source": [
    "from IPython.display import Audio, Image, display\n",
    "a = Audio(\"http://www.w3schools.com/html/horse.ogg\")\n",
    "i = Image(filename=\"images/Python.png\", width=100)\n",
    "display(a,i)"
   ]
  },
  {
   "cell_type": "code",
   "execution_count": 36,
   "metadata": {},
   "outputs": [
    {
     "data": {
      "application/javascript": [
       "alert(\"¡¡Tenemos javascript!!\");"
      ],
      "text/plain": [
       "<IPython.core.display.Javascript object>"
      ]
     },
     "execution_count": 36,
     "metadata": {},
     "output_type": "execute_result"
    }
   ],
   "source": [
    "from IPython.display import Javascript\n",
    "Javascript('alert(\"¡¡Tenemos javascript!!\");')"
   ]
  },
  {
   "cell_type": "markdown",
   "metadata": {
    "slideshow": {
     "slide_type": "slide"
    }
   },
   "source": [
    "##### 3.4 Widgets"
   ]
  },
  {
   "cell_type": "code",
   "execution_count": 40,
   "metadata": {},
   "outputs": [
    {
     "data": {
      "application/vnd.jupyter.widget-view+json": {
       "model_id": "bf3d5c998f9b4bf69517e2df49880c9e",
       "version_major": 2,
       "version_minor": 0
      },
      "text/plain": [
       "interactive(children=(IntSlider(value=3, description='grado', max=9), IntSlider(value=5, description='N_puntos…"
      ]
     },
     "metadata": {},
     "output_type": "display_data"
    }
   ],
   "source": [
    "%matplotlib inline\n",
    "import ipywidgets as widgets\n",
    "import numpy as np\n",
    "import matplotlib.pyplot as plt\n",
    "\n",
    "@widgets.interact(grado=(0, 9), N_puntos=(5,35))\n",
    "def mi_plot(grado=3, N_puntos=5):    \n",
    "    x = np.linspace(-10, 10, N_puntos)\n",
    "    y = x**grado\n",
    "    plt.figure(figsize=(12,8))\n",
    "    plt.plot(x, y, 'ro-')\n",
    "    plt.grid(True)\n",
    "    plt.show()"
   ]
  },
  {
   "cell_type": "markdown",
   "metadata": {
    "slideshow": {
     "slide_type": "slide"
    }
   },
   "source": [
    "##### 3.5 Tu librería\n",
    "\n",
    "Si tienes una librería (en local, en línea o en pypi) puedes usar la presentación para mostrar como se usa... ¡en vivo!\n",
    "\n",
    "Por ejemplo, un proyecto llamado pypsdier para la simulación de ecuaciones de reacción-difusión de catalizadores inmobilizados"
   ]
  },
  {
   "cell_type": "code",
   "execution_count": 41,
   "metadata": {},
   "outputs": [
    {
     "name": "stdout",
     "output_type": "stream",
     "text": [
      "\u001b[33mWARNING: Ignoring invalid distribution -rnado (/miniconda3/lib/python3.7/site-packages)\u001b[0m\n",
      "\u001b[33mWARNING: Ignoring invalid distribution -ipy (/miniconda3/lib/python3.7/site-packages)\u001b[0m\n",
      "\u001b[33mWARNING: Ignoring invalid distribution -ornado (/miniconda3/lib/python3.7/site-packages)\u001b[0m\n",
      "\u001b[33mWARNING: Ignoring invalid distribution - (/miniconda3/lib/python3.7/site-packages)\u001b[0m\n",
      "\u001b[33mWARNING: Ignoring invalid distribution -cipy (/miniconda3/lib/python3.7/site-packages)\u001b[0m\n",
      "\u001b[33mWARNING: Ignoring invalid distribution -cikit-learn (/miniconda3/lib/python3.7/site-packages)\u001b[0m\n",
      "Collecting git+https://github.com/sebastiandres/pypsdier.git\n",
      "  Cloning https://github.com/sebastiandres/pypsdier.git to /private/var/folders/68/v1ds0ld152q_wk4sbcns3ckw0000gn/T/pip-req-build-ztxz827u\n",
      "  Running command git clone -q https://github.com/sebastiandres/pypsdier.git /private/var/folders/68/v1ds0ld152q_wk4sbcns3ckw0000gn/T/pip-req-build-ztxz827u\n",
      "\u001b[33mWARNING: Ignoring invalid distribution -rnado (/miniconda3/lib/python3.7/site-packages)\u001b[0m\n",
      "\u001b[33mWARNING: Ignoring invalid distribution -ipy (/miniconda3/lib/python3.7/site-packages)\u001b[0m\n",
      "\u001b[33mWARNING: Ignoring invalid distribution -ornado (/miniconda3/lib/python3.7/site-packages)\u001b[0m\n",
      "\u001b[33mWARNING: Ignoring invalid distribution - (/miniconda3/lib/python3.7/site-packages)\u001b[0m\n",
      "\u001b[33mWARNING: Ignoring invalid distribution -cipy (/miniconda3/lib/python3.7/site-packages)\u001b[0m\n",
      "\u001b[33mWARNING: Ignoring invalid distribution -cikit-learn (/miniconda3/lib/python3.7/site-packages)\u001b[0m\n",
      "\u001b[33mWARNING: Ignoring invalid distribution -rnado (/miniconda3/lib/python3.7/site-packages)\u001b[0m\n",
      "\u001b[33mWARNING: Ignoring invalid distribution -ipy (/miniconda3/lib/python3.7/site-packages)\u001b[0m\n",
      "\u001b[33mWARNING: Ignoring invalid distribution -ornado (/miniconda3/lib/python3.7/site-packages)\u001b[0m\n",
      "\u001b[33mWARNING: Ignoring invalid distribution - (/miniconda3/lib/python3.7/site-packages)\u001b[0m\n",
      "\u001b[33mWARNING: Ignoring invalid distribution -cipy (/miniconda3/lib/python3.7/site-packages)\u001b[0m\n",
      "\u001b[33mWARNING: Ignoring invalid distribution -cikit-learn (/miniconda3/lib/python3.7/site-packages)\u001b[0m\n",
      "\u001b[33mWARNING: Ignoring invalid distribution -rnado (/miniconda3/lib/python3.7/site-packages)\u001b[0m\n",
      "\u001b[33mWARNING: Ignoring invalid distribution -ipy (/miniconda3/lib/python3.7/site-packages)\u001b[0m\n",
      "\u001b[33mWARNING: Ignoring invalid distribution -ornado (/miniconda3/lib/python3.7/site-packages)\u001b[0m\n",
      "\u001b[33mWARNING: Ignoring invalid distribution - (/miniconda3/lib/python3.7/site-packages)\u001b[0m\n",
      "\u001b[33mWARNING: Ignoring invalid distribution -cipy (/miniconda3/lib/python3.7/site-packages)\u001b[0m\n",
      "\u001b[33mWARNING: Ignoring invalid distribution -cikit-learn (/miniconda3/lib/python3.7/site-packages)\u001b[0m\n",
      "\u001b[33mWARNING: You are using pip version 21.1.1; however, version 21.2.4 is available.\n",
      "You should consider upgrading via the '/miniconda3/bin/python -m pip install --upgrade pip' command.\u001b[0m\n"
     ]
    }
   ],
   "source": [
    "!pip install git+https://github.com/sebastiandres/pypsdier.git --upgrade"
   ]
  },
  {
   "cell_type": "code",
   "execution_count": 42,
   "metadata": {
    "slideshow": {
     "slide_type": "slide"
    }
   },
   "outputs": [
    {
     "name": "stdout",
     "output_type": "stream",
     "text": [
      "System configuration:\n",
      "    environment: python\n",
      "    python version: 3.7.4\n",
      "    GenericSimulationLibrary version: 1.1.1\n",
      "    numpy version: 1.19.5\n",
      "    scipy version: 1.6.3\n",
      "    xlwt version: 1.3.0\n",
      "    matplotlib version: 3.3.3\n",
      "    dill version: 0.3.2\n",
      "Inputs:\n",
      "    No inputs\n",
      "Plot Options:\n",
      "    No plot_options\n",
      "Simulations:\n",
      "    ODE: no\n",
      "    PDE: no\n"
     ]
    }
   ],
   "source": [
    "import pypsdier\n",
    "SIM = pypsdier.SimulationInterface()\n",
    "SIM.status()"
   ]
  },
  {
   "cell_type": "code",
   "execution_count": 43,
   "metadata": {
    "slideshow": {
     "slide_type": "slide"
    }
   },
   "outputs": [
    {
     "name": "stdout",
     "output_type": "stream",
     "text": [
      "Loaded a simulation from /Users/sebastiandres/Projects/charlas-y-eventos/talk_2021_08_pylatam/data/pypsdier_example.rde\n",
      "System configuration:\n",
      "    environment: google_colab\n",
      "    python version: 3.6.9\n",
      "    GenericSimulationLibrary version: 1.1.0\n",
      "    numpy version: 1.18.5\n",
      "    scipy version: 1.4.1\n",
      "    xlwt version: 1.3.0\n",
      "    matplotlib version: 3.2.2\n",
      "    dill version: 0.3.2\n",
      "Inputs:\n",
      "    SimulationTime: 120.0\n",
      "    SavingTimeStep: 1.0\n",
      "    CatalystVolume: 0.5\n",
      "    BulkVolume: 100.0\n",
      "    Names: ('Substrat',)\n",
      "    InitialConcentrations: (1.3,)\n",
      "    EffectiveDiffusionCoefficients: (5.3e-10,)\n",
      "    CatalystParticleRadius: [4e-05, 6e-05, 8e-05]\n",
      "    CatalystParticleRadiusFrequency: [0.3, 0.5, 0.2]\n",
      "    ReactionFunction: <function MichaelisMenten at 0x10d5184d0>\n",
      "    ReactionParameters: (41, 0.13)\n",
      "    CatalystEnzymeConcentration: 0.35\n",
      "Plot Options:\n",
      "    title: Simulación de Michaelis Menten para la PyconAr\n",
      "    label_x: Tiempo de reacción [s]\n",
      "    label_y: Concentración [mM]\n",
      "    ode_kwargs: {'label': 'ode', 'color': 'black', 'marker': '', 'markersize': 6, 'linestyle': 'dashed', 'linewidth': 2}\n",
      "    pde_kwargs: {'label': 'pde', 'color': 'black', 'marker': '', 'markersize': 6, 'linestyle': 'solid', 'linewidth': 2}\n",
      "    data_kwargs: {'label': 'exp', 'color': 'red', 'marker': 's', 'markersize': 6, 'linestyle': 'none', 'linewidth': 2}\n",
      "    data_x: [0.0, 30, 60, 90, 120]\n",
      "    data_y: [1.3, 0.65, 0.25, 0.1, 0.0]\n",
      "Simulations:\n",
      "    ODE: yes\n",
      "    PDE: yes\n"
     ]
    }
   ],
   "source": [
    "SIM.load(\"data/pypsdier_example.rde\")\n",
    "SIM.status()"
   ]
  },
  {
   "cell_type": "code",
   "execution_count": 44,
   "metadata": {
    "slideshow": {
     "slide_type": "slide"
    }
   },
   "outputs": [
    {
     "data": {
      "image/png": "[encoded data removed]",
      "text/plain": [
       "<Figure size 864x576 with 1 Axes>"
      ]
     },
     "metadata": {
      "needs_background": "light"
     },
     "output_type": "display_data"
    }
   ],
   "source": [
    "SIM.plot()"
   ]
  },
  {
   "cell_type": "markdown",
   "metadata": {
    "slideshow": {
     "slide_type": "slide"
    }
   },
   "source": [
    "##### 3.6 Clases\n",
    "Al empaquetar tu código con clases, asegúrate de incluir una función `_repr_html_` para poder interactuar nativamente con jupyter notebook (y RISE):"
   ]
  },
  {
   "cell_type": "code",
   "execution_count": 45,
   "metadata": {},
   "outputs": [],
   "source": [
    "class Alerta(object):\n",
    "    \n",
    "    def __init__(self, text):\n",
    "        self.text = \"\\U000026A0 - \" + text.upper()\n",
    "\n",
    "    def _repr_html_(self):\n",
    "        return \"<h1 style='color:white;background:red;padding:30px'>\" + self.text + \"</h1>\""
   ]
  },
  {
   "cell_type": "code",
   "execution_count": 46,
   "metadata": {},
   "outputs": [
    {
     "data": {
      "text/html": [
       "<h1 style='color:white;background:red;padding:30px'>⚠ - COMENZAR A HABLAR DE RISE</h1>"
      ],
      "text/plain": [
       "<__main__.Alerta at 0x10d475cd0>"
      ]
     },
     "execution_count": 46,
     "metadata": {},
     "output_type": "execute_result"
    }
   ],
   "source": [
    "Alerta(\"Comenzar a hablar de RISE\")"
   ]
  },
  {
   "cell_type": "markdown",
   "metadata": {
    "slideshow": {
     "slide_type": "slide"
    }
   },
   "source": [
    "# 4. ¿Cómo usar RISE?"
   ]
  },
  {
   "cell_type": "markdown",
   "metadata": {
    "slideshow": {
     "slide_type": "slide"
    }
   },
   "source": [
    "##### 4.1 ¿Cómo instalar?\n",
    "\n",
    "**Paso 1**: \n",
    "\n",
    "La instalación de la extensión RISE es extremadamente fácil:\n",
    "\n",
    "```bash\n",
    "pip install rise\n",
    "```\n",
    "\n",
    "o\n",
    "\n",
    "```bash\n",
    "conda install -c conda-forge rise\n",
    "```"
   ]
  },
  {
   "cell_type": "markdown",
   "metadata": {
    "slideshow": {
     "slide_type": "slide"
    }
   },
   "source": [
    "Eso hará que se agregue el botón de iniciar presentación (destacado en rojo).\n",
    "\n",
    "![](images/install2.png)"
   ]
  },
  {
   "cell_type": "markdown",
   "metadata": {
    "slideshow": {
     "slide_type": "slide"
    }
   },
   "source": [
    "**Paso 2**: \n",
    "\n",
    "En el menú de jupyter notebook, es necesario seleccionar `View/Cell Toolbar/Slideshow` para que permita configurar el tipo de celda para diapositiva. \n",
    "![](images/install3.png)"
   ]
  },
  {
   "cell_type": "markdown",
   "metadata": {
    "slideshow": {
     "slide_type": "slide"
    }
   },
   "source": [
    "![](images/install4.png)"
   ]
  },
  {
   "cell_type": "markdown",
   "metadata": {
    "slideshow": {
     "slide_type": "slide"
    }
   },
   "source": [
    "##### 4.2 ¿Cómo se configuran las diapositivas?\n",
    "\n",
    "Existen varios tipos de celda con distintas funcionalidades:\n",
    "* `-`: valor por defecto. La celda se muestra con la slide anterior.\n",
    "* `Slide`: inicia una nueva diapositiva (dirección horizontal).\n",
    "* `Sub-slide`: iniciar una nueva sub-diapositiva (dirección vertical).\n",
    "* `Fragment`: se concatena a la celda anterior, pero no se muestra inmediatamente. \n",
    "* `Skip`: no se muestra la celda en las diapositivas.\n",
    "* `Notes`: No se muestra en las diapositivas, sólo se muestra en las notas para el presentador.\n"
   ]
  },
  {
   "cell_type": "markdown",
   "metadata": {
    "slideshow": {
     "slide_type": "slide"
    }
   },
   "source": [
    "![](images/install4.png)"
   ]
  },
  {
   "cell_type": "markdown",
   "metadata": {
    "slideshow": {
     "slide_type": "slide"
    }
   },
   "source": [
    "##### 4.3 ¿Cómo moverse por las slides?\n",
    "\n",
    "Al hacer click en el botón \"Iniciar presentación\", la presentación se iniciará en la celda que esté activa.\n",
    "\n",
    "* Se accede a la próxima diapositiva o fragmento con `Espacio` (o la flecha derecha).\n",
    "* Se retrocede a la diapositiva o fragmento anterior con `Shift Espacio` (o la flecha izquierda).\n",
    "* Se avanza a la próxima sub-diapositiva con `Page Up`.\n",
    "* Se retrocede la sub-diapositiva anterior con `Page Down`.\n",
    "\n",
    "¡O simplemente usar el mouse!"
   ]
  },
  {
   "cell_type": "markdown",
   "metadata": {
    "slideshow": {
     "slide_type": "slide"
    }
   },
   "source": [
    "Existen 2 direcciones: slides (izquierda a derecha) y subslides (arriba a abajo).\n",
    "\n",
    "![](images/revealjs-vertical-slides.gif \"Gif oficial de reveal.js https://revealjs.com/vertical-slides/\")"
   ]
  },
  {
   "cell_type": "markdown",
   "metadata": {
    "slideshow": {
     "slide_type": "subslide"
    }
   },
   "source": [
    "**Personalmente** no uso subslides porque no logro recordar un orden que no sea lineal, y termino saltándome las subslides sin querer."
   ]
  },
  {
   "cell_type": "markdown",
   "metadata": {
    "slideshow": {
     "slide_type": "slide"
    }
   },
   "source": [
    "##### 4.4 ¿Qué opciones hay?\n",
    "\n",
    "Existen múltiples funcionalides accesibles con el teclado durante la presentación, pero las principales a recordar son:\n",
    "* `,`: ocultar los botones.\n",
    "* `w`: Mostrar orden de diapositivas.\n",
    "* `?`: ver todos los atajos de teclado."
   ]
  },
  {
   "cell_type": "markdown",
   "metadata": {
    "slideshow": {
     "slide_type": "slide"
    }
   },
   "source": [
    "##### 4.5 Tamaño de fuente e imágenes\n",
    "\n",
    "Un problema común es que al conectar el computador a otra pantalla o datashow, no se alcanza a ver en la diapositiva todo el código, texto o imagen. \n",
    "\n",
    "`Ctrl +` y `Ctrl -` permiten regular el tamaño (`⌘+`y `⌘-` en Mac), de la misma manera que regulas el tamaño de una página web.\n",
    "\n",
    "![](2021-08-01-tutorial-rise-parte-1/tamano.gif)"
   ]
  },
  {
   "cell_type": "markdown",
   "metadata": {
    "slideshow": {
     "slide_type": "slide"
    }
   },
   "source": [
    "##### 4.6 ¿Dónde están las notas del presentador?\n",
    "\n",
    "Puedes abrir las notas del presentador presionando `t`.\n",
    "\n",
    "Para poder usar las notas del presentador necesitas tener al menos 2 pantallas.\n",
    "\n",
    "![](images/notas_presentador.gif)"
   ]
  },
  {
   "cell_type": "markdown",
   "metadata": {
    "slideshow": {
     "slide_type": "slide"
    }
   },
   "source": [
    "# 5. ¿Cómo comenzar?"
   ]
  },
  {
   "cell_type": "markdown",
   "metadata": {
    "slideshow": {
     "slide_type": "slide"
    }
   },
   "source": [
    "##### 5. ¿Cómo comenzar?\n",
    "\n",
    "Existen 3 formas de presentar con jupyter notebook + RISE:\n",
    "\n",
    "* Crea un nuevo notebook.\n",
    "* Recicla un notebook existente. \n",
    "* Recicla una presentación de PowerPoint."
   ]
  },
  {
   "cell_type": "markdown",
   "metadata": {
    "slideshow": {
     "slide_type": "slide"
    }
   },
   "source": [
    "##### 5.1 y 5.2 Creando o reciclando un notebook\n",
    "\n",
    "Para cada celda (markdown o código) que tengas en el jupyter notebook, indica que **tipo de diapositiva** deberá usar.\n",
    "\n",
    "Usar principalmente:\n",
    "* `Slide`: inicia una nueva diapositiva (dirección horizontal).\n",
    "* `-`: Se concantena a la interior inmediatamente.\n",
    "* `Fragment`: se concatena a la celda anterior, pero con una animación (no inmediata).\n",
    "\n",
    "Evitar:\n",
    "* `Skip`: no se muestra la celda en las diapositivas.\n",
    "* `Notes`: No se muestra en las diapositivas, sólo se muestra en las notas para el presentador.\n",
    "* `Sub-slide`: iniciar una nueva sub-diapositiva (dirección vertical)."
   ]
  },
  {
   "cell_type": "markdown",
   "metadata": {
    "slideshow": {
     "slide_type": "slide"
    }
   },
   "source": [
    "##### 5.3 Conviertiendo una presentaciones de PowerPoint\n",
    "\n",
    "Si ya tienes una presentación pptx, puedes convertirla con una herramienta en línea.\n",
    "No es perfecta, pero te ahorrará un buen tiempo de copiar y pegar texto.\n",
    "\n",
    "[https://share.streamlit.io/sebastiandres/streamlit_ppt2rise/main](https://share.streamlit.io/sebastiandres/streamlit_ppt2rise/main)"
   ]
  },
  {
   "cell_type": "markdown",
   "metadata": {
    "slideshow": {
     "slide_type": "slide"
    }
   },
   "source": [
    "El funcionamiento es el siguiente. Supongamos que tienes una presentación que necesitas convertir: `simple.pptx`\n",
    "\n",
    "![Simple.pptx](images/original_pptx.gif)\n",
    "simple.pptx"
   ]
  },
  {
   "cell_type": "markdown",
   "metadata": {
    "slideshow": {
     "slide_type": "slide"
    }
   },
   "source": [
    "Primero que nada, en el sitio debes cargar la presentación, esperar que se convierta y descargar el notebook + RISE equivalente:\n",
    "\n",
    "![](images/ppt2rise.gif)\n"
   ]
  },
  {
   "cell_type": "markdown",
   "metadata": {
    "slideshow": {
     "slide_type": "slide"
    }
   },
   "source": [
    "\n",
    "Después de descargar y descomprimir, al lanzar el notebook en jupyter la presentación debería comenzar de inmediato: \n",
    "\n",
    "![](images/slides_ipynb.gif)"
   ]
  },
  {
   "cell_type": "markdown",
   "metadata": {
    "slideshow": {
     "slide_type": "slide"
    }
   },
   "source": [
    "# 6. ¿Cómo personalizar?"
   ]
  },
  {
   "cell_type": "markdown",
   "metadata": {
    "slideshow": {
     "slide_type": "slide"
    }
   },
   "source": [
    "##### 6.1 Metadata del notebook\n",
    "Todas las configuraciones de RISE se realizan **editando la metadata del notebook**. \n",
    "\n",
    "Para ello, tienes que ir a `Edit/Edit notebook metadata` y agregar la(s) opcion(es) deseadas.\n",
    "\n",
    "![Metadata](images/metadata.gif)"
   ]
  },
  {
   "cell_type": "markdown",
   "metadata": {
    "slideshow": {
     "slide_type": "slide"
    }
   },
   "source": [
    "##### 6.1 Metadata del notebook\n",
    "\n",
    "La metadata es un diccionario json con las distintas opciones de todo el notebook. Por defecto, no trae ninguna opción cargada de RISE. Por eso, tenemos que **agregar** las opciones que se quieren configurar:\n",
    "\n",
    "```json\n",
    " \"rise\": {\n",
    "             \"opcion_1\": valor_opcion_1,\n",
    "                      ...\n",
    "             \"opcion_n\": valor_opcion_n,\n",
    "         }\n",
    "````\n",
    "\n",
    "\n",
    "**Observación importante**: \n",
    "\n",
    "Cada vez que editas la metadata, es necesario cerrar (apagar) el notebook y volver a abrirlo para que se recarguen las opciones. \n"
   ]
  },
  {
   "cell_type": "markdown",
   "metadata": {
    "slideshow": {
     "slide_type": "slide"
    }
   },
   "source": [
    "##### 6.2 Eligiendo un tema\n",
    "\n",
    "El tema de la presentación controla el aspecto general de la presentación. \n",
    "\n",
    "\n",
    "En la metadata del notebook se agrega la opción de \"theme\" con el nombre del tema deseado:\n",
    "\n",
    "```json\n",
    " \"rise\": {\"theme\": \"sky\"}\n",
    "````\n",
    "\n",
    "Existen 11 opciones, que se heredan de la librería [revealjs](https://revealjs.com/themes/):\n",
    "\n",
    "* **black**: Fondo negro, letras blancas, links azules.\n",
    "* **white**: Fondo blanco, letras negras, links celestes.\n",
    "* **league**: Fondo gris, letras blancas, links celestes.\n",
    "* **sky**: Fondo celeste, letras oscuras, links azules. \n",
    "* **beige**: Fondo beige, letras oscuras, links cafés.\n",
    "* **simple**: Fondo blanco, letras negras, links azules. \n",
    "* **serif**: Fondo café, letras grises, links cafés. \n",
    "* **night**: Fondo negro, letras blancas, links naranjos. \n",
    "* **blood**: Fondo oscuro, letras blancas, links rojos.\n",
    "* **moon**: Fondo azul oscuro, letras grises, links azules.\n",
    "* **solarized**: Fondo blanco crema, letras verde oscuro, links azules."
   ]
  },
  {
   "cell_type": "markdown",
   "metadata": {
    "slideshow": {
     "slide_type": "slide"
    }
   },
   "source": [
    "![Themes](images/themes.png)\n",
    "\n",
    "La imagen fue compilada por el siguiente [blog](https://dev.to/emmabostian/how-to-build-a-captivating-presentation-using-html-css--javascript-nno)."
   ]
  },
  {
   "cell_type": "markdown",
   "metadata": {
    "slideshow": {
     "slide_type": "slide"
    }
   },
   "source": [
    "##### 6.3 Eligiendo una transición\n",
    "El tipo de transición entre slides se define de manera similar. En la metadata del notebook se agrega la opción de \"transition\" con el nombre de la transición deseada:\n",
    "\n",
    "```json\n",
    " \"rise\": {\"transition\": \"zoom\"}\n",
    "```\n",
    "\n",
    "Las opciones, heredadas de las [transiciones](https://revealjs.com/transitions/) existentes en la librería revealjs, son:\n",
    "\n",
    "* **none**: Sin animación.\n",
    "* **fade**:\tDesaparecer\n",
    "* **slide**: Deslizar lateralmente.\n",
    "* **convex**: Animar con ángulo convexo.\n",
    "* **concave**: Animar con ángulo convexo.\n",
    "* **zoom**: Animar para que la diapositiva siguiente crezca desde el centro de la pantalla."
   ]
  },
  {
   "cell_type": "markdown",
   "metadata": {
    "slideshow": {
     "slide_type": "slide"
    }
   },
   "source": [
    "Los tipos de transiciones se muestran en esta animación:\n",
    "![Transitions](images/transitions.gif)"
   ]
  },
  {
   "cell_type": "markdown",
   "metadata": {
    "slideshow": {
     "slide_type": "slide"
    }
   },
   "source": [
    "##### 6.4 Definiendo una imagen de fondos\n",
    "\n",
    "Simplemente, usar:\n",
    "\n",
    "```json\n",
    "\"rise\": {\n",
    "     \"backimage\": \"mybackimage.png\",\n",
    " }\n",
    "}\n",
    "```\n",
    "\n",
    "Esta opción es útil si quieres un fondo personalizado, como a veces se exige en algunos congresos. Como es habitual al manejar imágenes, conviene usar archivos png con fondo transparente para que se integre bien con el theme elegido.\n",
    "\n",
    "![](2021-08-02-tutorial-rise-parte-2/background.gif)\n"
   ]
  },
  {
   "cell_type": "markdown",
   "metadata": {
    "slideshow": {
     "slide_type": "slide"
    }
   },
   "source": [
    "##### 6.5 Definiendo header y footer:\n",
    "Simplemente, usar:\n",
    "\n",
    "```json\n",
    "\"rise\": {\n",
    "     \"header\": \"<h1>Hola</h1>\",\n",
    "     \"footer\": \"<h3>Mundo</h3>\"\n",
    " }\n",
    "}\n",
    "```\n",
    "\n",
    "Puedes usar `<br>` y `&nbsp;` para introducir saltos de línea y espacios en blanco, respectivamente.\n",
    "\n",
    "![](2021-08-02-tutorial-rise-parte-2/header_footer.gif)\n",
    "\n"
   ]
  },
  {
   "cell_type": "markdown",
   "metadata": {
    "slideshow": {
     "slide_type": "slide"
    }
   },
   "source": [
    "##### 6.6 Lanzar RISE de manera automática\n",
    "\n",
    "En la metadata del notebook se agrega la opción de \"autolaunch\" con valor `true` (todo en minúsculas, ¡es verdadero de javascript, no de Python!):\n",
    "\n",
    "```json\n",
    " \"rise\": {\"autolaunch\": true}\n",
    "````\n",
    "\n",
    "Al publicar tu jupyter notebook con mybinder.org, se mostrará en modo presentación automáticamente.\n",
    "\n",
    "![Metadata](images/autolaunch.gif)"
   ]
  },
  {
   "cell_type": "markdown",
   "metadata": {
    "slideshow": {
     "slide_type": "slide"
    }
   },
   "source": [
    "##### 6.7 Pizarra\n",
    "\n",
    "Es posible activar una pizarra (chalkboard) para realizar anotaciones durante la presentación.\n",
    "\n",
    "Para eso, en Edit/Edit Notebook Metadata, es necesario agregar el siguiente texto a la metadata del jupyter notebook:\n",
    "\n",
    "```json\n",
    "{\n",
    " ...\n",
    " \"rise\": {\"enable_chalkboard\": true}\n",
    "}\n",
    "```\n",
    "\n",
    "Durante la presentación se puede utilizar la pizarra haciendo click en los íconos, que permiten dibujar en una pizarra o sobre las diapositivas.\n",
    "\n",
    "Es posible cambiar de color de lapiz presionando `s` y `q`. Se puede borrar la pizarra con `-`.\n",
    "\n",
    "Las anotaciones se preservan incluso al cerrar el modo presentación. Sin embargo, no se guardan al cerrar el notebook."
   ]
  },
  {
   "cell_type": "markdown",
   "metadata": {
    "slideshow": {
     "slide_type": "slide"
    }
   },
   "source": [
    "## Importante consejo final\n",
    "\n",
    "Tantas opciones pueden ser sobrecogedoras y difíciles de recordar. Como no se puede tener comentarios en un json, resulta práctico tener guardadas todas las opciones y simplemente agregar un `_` antes de las opciones que no se desean usar."
   ]
  },
  {
   "cell_type": "markdown",
   "metadata": {
    "slideshow": {
     "slide_type": "fragment"
    }
   },
   "source": [
    "```json\n",
    "\"rise\": {\n",
    "        \"autolaunch\": true,\n",
    "        \"enable_chalkboard\": true\n",
    "        \"theme\": \"black\",\n",
    "        \"transition\": \"zoom\",\n",
    "        \"_header\": \"<h1>PRESENTATION NAME // EVENTs</h1>\",\n",
    "        \"_footer\": \"<h3>NAME, DATE</h3>\",\n",
    "        \"_backimage\": \"path/to/mybackimage.png\",\n",
    "        \"_theme_options\": [ \"black\", \"white\", \"league\", \"beige\", \n",
    "                           \"sky\", \"night\", \"serif\"], \n",
    "        \"_transition_options\": [\"none\", \"fade\", \"slide\", \"convex\", \"concave\", \"zoom\"],\n",
    "        }\n",
    "```"
   ]
  },
  {
   "cell_type": "markdown",
   "metadata": {
    "slideshow": {
     "slide_type": "slide"
    }
   },
   "source": [
    "![](images/options.gif)"
   ]
  },
  {
   "cell_type": "markdown",
   "metadata": {
    "slideshow": {
     "slide_type": "slide"
    }
   },
   "source": [
    "# 7. ¿Cómo compartir?"
   ]
  },
  {
   "cell_type": "markdown",
   "metadata": {
    "slideshow": {
     "slide_type": "slide"
    }
   },
   "source": [
    "##### 7. ¿Cómo puedo compartir la presentación?\n",
    "\n",
    "Muchas opciones: \n",
    "* Repositorio en línea\n",
    "* mybinder\n",
    "* html\n",
    "* pdf"
   ]
  },
  {
   "cell_type": "markdown",
   "metadata": {
    "slideshow": {
     "slide_type": "slide"
    }
   },
   "source": [
    "##### 7.1 Repositorio\n",
    "\n",
    "No trabajes en local: usa git + repositorio en línea: github, bitbucket, gitlab u otros.\n",
    "\n",
    "Incluye: \n",
    "* README.md: Explica para qué sirve y cómo usarlo.\n",
    "* `requirements.txt`: librerías que se requieren en el notebook.\n",
    "* Todo el código, datos e imágenes.\n",
    "\n",
    "En github, al activar \"Gitub Pages\" las páginas html de tu repo pueden consultarse y navegarse.\n",
    "\n",
    "El archivo de `nombre_repo/ruta_carpetas/nombre_archivo.html` se visualizará en `https://nombre_usuario.github.io/nombre_repo/ruta_carpetas/nombre_archivo.html`."
   ]
  },
  {
   "cell_type": "markdown",
   "metadata": {
    "slideshow": {
     "slide_type": "slide"
    }
   },
   "source": [
    "##### 7.2 mybinder\n",
    "\n",
    "[Binder](https://mybinder.org) es un servicio que permite lanzar un jupyter notebook en el navegador y en la nube, sin consumir recursos de tu computador y de manera completamente gratuita. \n",
    "\n",
    "Resulta práctico para que otras personas pueden ver la presentación de **manera interactiva sin tener que instalar** nada en su computador, ¡incluso desde un smartphone o tablet!\n",
    "\n",
    "Para usar mybinder, debes tener tu repositorio en github. "
   ]
  },
  {
   "cell_type": "markdown",
   "metadata": {
    "slideshow": {
     "slide_type": "slide"
    }
   },
   "source": [
    "En [Binder](https://mybinder.org) puedes introducir los distintos parámetros:\n",
    "* Usuario github: **nombre_usuario**\n",
    "* Nombre repositorio: **nombre_repositorio**\n",
    "* Nombre de la rama del repositorio: **nombre_rama**\n",
    "* Ruta al archivo: **ruta_carpetas**\n",
    "* Nombre del archivo: **nombre_archivo.ipynb**\n",
    "* En la rama, en el directorio principal, debe existir el archivo `requirements.txt` \n",
    "\n",
    "La siguiente página mostrará tu notebook:\n",
    "```\n",
    "https://mybinder.org/v2/gh/nombre_usuario/nombre_repositorio/nombre_rama?filepath=ruta_carpetas/nombre_archivo.ipynb\n",
    "```\n",
    "\n",
    "Incluirá la extensión RISE si la colocaste en los `requirements.txt`. \n"
   ]
  },
  {
   "cell_type": "markdown",
   "metadata": {
    "slideshow": {
     "slide_type": "slide"
    }
   },
   "source": [
    "##### 7.3 HTML\n",
    "\n",
    "En el terminal:\n",
    "\n",
    "```\n",
    "jupyter nbconvert --to slides ruta_carpeta/nombre_archivo.ipynb\n",
    "```\n",
    "\n",
    "Se generará un archivo html estático de tu presentación, con el nombre `ruta_carpeta/nombre_archivo.slides.html`"
   ]
  },
  {
   "cell_type": "markdown",
   "metadata": {
    "slideshow": {
     "slide_type": "slide"
    }
   },
   "source": [
    "##### 7.4 PDF\n",
    "\n",
    "Se requieren 3 pasos:\n",
    "\n",
    "1.  Genera las diapositivas en html, usando nbconvert, para que queden \"activas\":\n",
    "```\n",
    "jupyter nbconvert --to slides ruta_carpeta/nombre_archivo.ipynb --post serve\n",
    "```\n",
    "\n",
    "  Se abrirá una página web en el navegador, en la dirección `http://127.0.0.1:8000/nombre_archivo.slides.html#/`\n",
    "\n",
    "2. Edita la ruta, para que sea `http://127.0.0.1:8000/nombre_archivo.slides.html?print-pdf`. \n",
    "\n",
    "3. Finalmente, guarda la página web como pdf."
   ]
  },
  {
   "cell_type": "markdown",
   "metadata": {
    "slideshow": {
     "slide_type": "slide"
    }
   },
   "source": [
    "##### 7.5 Todas las anteriores\n",
    "\n",
    "Incluye un archivo html con todas las opciones, y deja que el usuario elija:\n",
    "\n",
    "![](images/indexhtml.png)"
   ]
  },
  {
   "cell_type": "markdown",
   "metadata": {
    "slideshow": {
     "slide_type": "slide"
    }
   },
   "source": [
    "# 8. Consejos Finales"
   ]
  },
  {
   "cell_type": "markdown",
   "metadata": {
    "slideshow": {
     "slide_type": "slide"
    }
   },
   "source": [
    "##### 8.1 ¿Cómo puedo configurar texto e imagen?\n",
    "\n",
    "Para mostrar columnas mezclando texto e imagenes, simplemente usamos un poco de html:"
   ]
  },
  {
   "cell_type": "markdown",
   "metadata": {
    "slideshow": {
     "slide_type": "-"
    }
   },
   "source": [
    "```html\n",
    "<div>\n",
    "    <div style=\"display: inline-block;  width: 40%;\">\n",
    "Lorem ipsum dolor sit amet, consectetur adipiscing elit, sed do eiusmod tempor incididunt \n",
    "ut labore et dolore magna aliqua. Ut enim ad minim veniam, quis nostrud exercitation ullamco \n",
    "laboris nisi ut aliquip ex ea commodo consequat. Duis aute irure dolor in reprehenderit in \n",
    "voluptate velit esse cillum dolore eu fugiat nulla pariatur. Excepteur sint occaecat cupidatat \n",
    "non proident, sunt in culpa qui officia deserunt mollit anim id est laborum.\n",
    "    </div>\n",
    "    <div style=\"display: inline-block; vertical-align: text-bottom; width: 40%;\">\n",
    "        <img src=\"images/2columns.gif\" alt=\"LoreIpsum\">\n",
    "    </div>\n",
    "</div>\n",
    "```"
   ]
  },
  {
   "cell_type": "markdown",
   "metadata": {
    "slideshow": {
     "slide_type": "slide"
    }
   },
   "source": [
    "<div>\n",
    "    <div style=\"display: inline-block;  width: 40%;\">\n",
    "Lorem ipsum dolor sit amet, consectetur adipiscing elit, sed do eiusmod tempor incididunt ut labore et dolore magna aliqua. Ut enim ad minim veniam, quis nostrud exercitation ullamco laboris nisi ut aliquip ex ea commodo consequat. Duis aute irure dolor in reprehenderit in voluptate velit esse cillum dolore eu fugiat nulla pariatur. Excepteur sint occaecat cupidatat non proident, sunt in culpa qui officia deserunt mollit anim id est laborum.\n",
    "    </div>\n",
    "    <div style=\"display: inline-block; vertical-align: text-bottom; width: 1%;\">\n",
    "    </div>\n",
    "    <div style=\"display: inline-block; vertical-align: text-bottom; width: 40%;\">\n",
    "        <img src=\"images/2columns.gif\" alt=\"LoreIpsum\">\n",
    "    </div>\n",
    "</div>"
   ]
  },
  {
   "cell_type": "markdown",
   "metadata": {
    "slideshow": {
     "slide_type": "slide"
    }
   },
   "source": [
    "Consejo: **keep it simple**. \n",
    "\n",
    "Gastar 1 hora en una diapositiva que mostrarás 1 minuto *puede* ser una mala inversión."
   ]
  },
  {
   "cell_type": "markdown",
   "metadata": {
    "slideshow": {
     "slide_type": "slide"
    }
   },
   "source": [
    "##### 7.2 Animaciones complejas\n",
    "\n",
    "Reveal.js soporta animaciones bastante complejas. \n",
    "\n",
    "Creo que es mejor mantener simple, pero siempre puedes buscar en \n",
    "https://revealjs.com/"
   ]
  },
  {
   "cell_type": "markdown",
   "metadata": {
    "slideshow": {
     "slide_type": "slide"
    }
   },
   "source": [
    "##### Animando framentos\n",
    "Usando el código\n",
    "```html\n",
    "<p class=\"fragment\">Fade in</p>\n",
    "<p class=\"fragment fade-out\">Fade out</p>\n",
    "<p class=\"fragment highlight-red\">Highlight red</p>\n",
    "<p class=\"fragment fade-in-then-out\">Fade in, then out</p>\n",
    "<p class=\"fragment fade-up\">Slide up while fading in</p>\n",
    "```\n",
    "Obtenemos:"
   ]
  },
  {
   "cell_type": "markdown",
   "metadata": {
    "slideshow": {
     "slide_type": "-"
    }
   },
   "source": [
    "<p class=\"fragment\">Fade in</p>\n",
    "<p class=\"fragment fade-out\">Fade out</p>\n",
    "<p class=\"fragment highlight-red\">Highlight red</p>\n",
    "<p class=\"fragment fade-in-then-out\">Fade in, then out</p>\n",
    "<p class=\"fragment fade-up\">Slide up while fading in</p>"
   ]
  },
  {
   "cell_type": "markdown",
   "metadata": {
    "slideshow": {
     "slide_type": "slide"
    }
   },
   "source": [
    "##### Animando framentos\n",
    "Usando el código\n",
    "```html\n",
    "<p class=\"fragment\" data-fragment-index=\"3\">Appears last</p>\n",
    "<p class=\"fragment\" data-fragment-index=\"1\">Appears first</p>\n",
    "<p class=\"fragment\" data-fragment-index=\"2\">Appears second</p>\n",
    "```\n",
    "Obtenemos:"
   ]
  },
  {
   "cell_type": "markdown",
   "metadata": {
    "slideshow": {
     "slide_type": "-"
    }
   },
   "source": [
    "<p class=\"fragment\" data-fragment-index=\"3\">Appears last</p>\n",
    "<p class=\"fragment\" data-fragment-index=\"1\">Appears first</p>\n",
    "<p class=\"fragment\" data-fragment-index=\"2\">Appears second</p>"
   ]
  },
  {
   "cell_type": "markdown",
   "metadata": {
    "slideshow": {
     "slide_type": "slide"
    }
   },
   "source": [
    "##### 7.3 Ocultando código\n",
    "\n",
    "A veces quieres ejecutar una celda pero no mostrar largas filas de código. \n",
    "\n",
    "Hay 2 formas de hacerlo:"
   ]
  },
  {
   "cell_type": "markdown",
   "metadata": {
    "slideshow": {
     "slide_type": "fragment"
    }
   },
   "source": [
    "1. **Simple**: creando función auxiliar y ejecutándola.\n",
    "2. **Técnica**: usando un poco de magia de jupyter notebook."
   ]
  },
  {
   "cell_type": "markdown",
   "metadata": {
    "slideshow": {
     "slide_type": "slide"
    }
   },
   "source": [
    "**Opción Simple**: \n",
    "\n",
    "Podemos definir la función en un archivo, y luego importarla y ejecutarla:"
   ]
  },
  {
   "cell_type": "code",
   "execution_count": 48,
   "metadata": {},
   "outputs": [
    {
     "data": {
      "image/png": "[encoded data removed]",
      "text/plain": [
       "<Figure size 864x576 with 1 Axes>"
      ]
     },
     "metadata": {
      "needs_background": "light"
     },
     "output_type": "display_data"
    }
   ],
   "source": [
    "from mi_carpeta import mi_script\n",
    "mi_script.mi_grafico(order=6, figsize=(12,8))"
   ]
  },
  {
   "cell_type": "markdown",
   "metadata": {
    "slideshow": {
     "slide_type": "slide"
    }
   },
   "source": [
    "Si queremos mostrar la función, usamos un poco de bash:"
   ]
  },
  {
   "cell_type": "code",
   "execution_count": 49,
   "metadata": {},
   "outputs": [
    {
     "name": "stdout",
     "output_type": "stream",
     "text": [
      "__init__.py  \u001b[34m__pycache__\u001b[m\u001b[m  mi_script.py\r\n"
     ]
    }
   ],
   "source": [
    "!ls ./mi_carpeta"
   ]
  },
  {
   "cell_type": "code",
   "execution_count": 50,
   "metadata": {},
   "outputs": [
    {
     "name": "stdout",
     "output_type": "stream",
     "text": [
      "# Tomado y adaptado desde:\r\n",
      "# https://matplotlib.org/stable/gallery/lines_bars_and_markers/fill.html\r\n",
      "\r\n",
      "import numpy as np\r\n",
      "import matplotlib.pyplot as plt\r\n",
      "\r\n",
      "def koch_snowflake(order, scale=10):\r\n",
      "    \"\"\"\r\n",
      "    Return two lists x, y of point coordinates of the Koch snowflake.\r\n",
      "\r\n",
      "    Parameters\r\n",
      "    ----------\r\n",
      "    order : int\r\n",
      "        The recursion depth.\r\n",
      "    scale : float\r\n",
      "        The extent of the snowflake (edge length of the base triangle).\r\n",
      "    \"\"\"\r\n",
      "    def _koch_snowflake_complex(order):\r\n",
      "        if order == 0:\r\n",
      "            # initial triangle\r\n",
      "            angles = np.array([0, 120, 240]) + 90\r\n",
      "            return scale / np.sqrt(3) * np.exp(np.deg2rad(angles) * 1j)\r\n",
      "        else:\r\n",
      "            ZR = 0.5 - 0.5j * np.sqrt(3) / 3\r\n",
      "\r\n",
      "            p1 = _koch_snowflake_complex(order - 1)  # start points\r\n",
      "            p2 = np.roll(p1, shift=-1)  # end points\r\n",
      "            dp = p2 - p1  # connection vectors\r\n",
      "\r\n",
      "            new_points = np.empty(len(p1) * 4, dtype=np.complex128)\r\n",
      "            new_points[::4] = p1\r\n",
      "            new_points[1::4] = p1 + dp / 3\r\n",
      "            new_points[2::4] = p1 + dp * ZR\r\n",
      "            new_points[3::4] = p1 + dp / 3 * 2\r\n",
      "            return new_points\r\n",
      "\r\n",
      "    points = _koch_snowflake_complex(order)\r\n",
      "    x, y = points.real, points.imag\r\n",
      "    return x, y\r\n",
      "\r\n",
      "def mi_grafico(order=5, figsize=(12,8)):\r\n",
      "    \"\"\"\r\n",
      "    Plots the koch snowflake.\r\n",
      "    \r\n",
      "    Parameters\r\n",
      "    ----------\r\n",
      "    order : int\r\n",
      "        The recursion depth.\r\n",
      "    scale : float\r\n",
      "        The extent of the snowflake (edge length of the base triangle).\r\n",
      "    \"\"\"\r\n",
      "    x, y = koch_snowflake(order=order)\r\n",
      "    plt.figure(figsize=figsize)\r\n",
      "    plt.axis('equal')\r\n",
      "    plt.fill(x, y)\r\n",
      "    plt.show()"
     ]
    }
   ],
   "source": [
    "!cat mi_carpeta/mi_script.py"
   ]
  },
  {
   "cell_type": "markdown",
   "metadata": {
    "slideshow": {
     "slide_type": "slide"
    }
   },
   "source": [
    "**Opción Técnica**: \n",
    "\n",
    "Usando una función específica para ocultar código, creada con una mezcla de html y javascript."
   ]
  },
  {
   "cell_type": "code",
   "execution_count": 51,
   "metadata": {},
   "outputs": [],
   "source": [
    "def toggle_cell_code(button_id):\n",
    "    \"\"\"\n",
    "    Adds a button to toggle (show/hide) the code cell but not the output. \n",
    "    \n",
    "    Parameters\n",
    "    ----------\n",
    "    button_id : str\n",
    "        An identifier for cells that will hide/show when button is pressed.\n",
    "    \"\"\"\n",
    "    \n",
    "    from IPython.display import display_html\n",
    "    my_html = '''\n",
    "    <button type=\"button\" id=\"%s\" onclick=\"code_toggle('%s')\">Código</button>\n",
    "    <script>\n",
    "    function code_toggle(my_id) {\n",
    "        // get the parent element for the cell code and output\n",
    "        var p = $(\"#\"+my_id);\n",
    "        if (p.length==0) return;\n",
    "        while (!p.hasClass(\"cell\")) {\n",
    "            p = p.parent();\n",
    "            if (p.prop(\"tagName\") ==\"body\") return;\n",
    "        }\n",
    "    // get the cell code and toggle its value\n",
    "    var cell_code = p.find(\".input\");\n",
    "    cell_code.toggle();\n",
    "    }\n",
    "    </script>\n",
    "    ''' %(button_id, button_id)\n",
    "    return display_html(my_html, raw=True)"
   ]
  },
  {
   "cell_type": "markdown",
   "metadata": {
    "slideshow": {
     "slide_type": "slide"
    }
   },
   "source": [
    "Y así se ve en el código:"
   ]
  },
  {
   "cell_type": "code",
   "execution_count": 52,
   "metadata": {},
   "outputs": [
    {
     "data": {
      "text/html": [
       "\n",
       "    <button type=\"button\" id=\"un_string_unico_y_reconocible\" onclick=\"code_toggle('un_string_unico_y_reconocible')\">Código</button>\n",
       "    <script>\n",
       "    function code_toggle(my_id) {\n",
       "        // get the parent element for the cell code and output\n",
       "        var p = $(\"#\"+my_id);\n",
       "        if (p.length==0) return;\n",
       "        while (!p.hasClass(\"cell\")) {\n",
       "            p = p.parent();\n",
       "            if (p.prop(\"tagName\") ==\"body\") return;\n",
       "        }\n",
       "    // get the cell code and toggle its value\n",
       "    var cell_code = p.find(\".input\");\n",
       "    cell_code.toggle();\n",
       "    }\n",
       "    </script>\n",
       "    "
      ]
     },
     "metadata": {},
     "output_type": "display_data"
    },
    {
     "data": {
      "image/png": "[encoded data removed]",
      "text/plain": [
       "<Figure size 1440x1008 with 1 Axes>"
      ]
     },
     "metadata": {
      "needs_background": "light"
     },
     "output_type": "display_data"
    }
   ],
   "source": [
    "# Botón para esconder el código\n",
    "toggle_cell_code(\"un_string_unico_y_reconocible\")\n",
    "\n",
    "# Código para graficar\n",
    "import numpy as np\n",
    "import matplotlib.pyplot as plt\n",
    "\n",
    "# Fixing random state for reproducibility\n",
    "np.random.seed(19680801)\n",
    "\n",
    "N = 50\n",
    "x = np.random.rand(N)\n",
    "y = np.random.rand(N)\n",
    "colors = np.random.rand(N)\n",
    "area = (30 * np.random.rand(N))**2  # 0 to 15 point radii\n",
    "\n",
    "plt.figure(figsize=(20,14))\n",
    "plt.scatter(x, y, s=area, c=colors, alpha=0.5)\n",
    "plt.show()"
   ]
  },
  {
   "cell_type": "markdown",
   "metadata": {
    "slideshow": {
     "slide_type": "slide"
    }
   },
   "source": [
    "##### 7.4 ¿Cómo puedo hacer actividades interactivas?\n",
    "\n",
    "Para incluir actividades interactivas, como las que se pueden hacer con https://www.mentimeter.com/, https://kahoot.com/ o https://quizizz.com/ (entre otros), es posible tomar varios caminos:"
   ]
  },
  {
   "cell_type": "markdown",
   "metadata": {
    "slideshow": {
     "slide_type": "fragment"
    }
   },
   "source": [
    "* **Simple**: Colocar un código QR para que la audiencia acceda desde sus smartphones. Luego simplemente te cambias a la página correspondiente para mirar los resultados y compartirlos en pantalla. \n",
    "\n",
    "* **Técnica**: Incrustar la página web de la actividad mediante `IFrames`. Desaconsejado, porque cada hay más restricciones a IFrames."
   ]
  },
  {
   "cell_type": "code",
   "execution_count": 53,
   "metadata": {
    "slideshow": {
     "slide_type": "slide"
    }
   },
   "outputs": [
    {
     "data": {
      "text/html": [
       "\n",
       "        <iframe\n",
       "            width=\"1200\"\n",
       "            height=\"600\"\n",
       "            src=\"https://www.pylatam.org/\"\n",
       "            frameborder=\"0\"\n",
       "            allowfullscreen\n",
       "        ></iframe>\n",
       "        "
      ],
      "text/plain": [
       "<IPython.lib.display.IFrame at 0x10d51d810>"
      ]
     },
     "execution_count": 53,
     "metadata": {},
     "output_type": "execute_result"
    }
   ],
   "source": [
    "from IPython.display import IFrame\n",
    "IFrame(\"https://www.pylatam.org/\", width=1200, height=600)"
   ]
  },
  {
   "cell_type": "code",
   "execution_count": 54,
   "metadata": {
    "slideshow": {
     "slide_type": "slide"
    }
   },
   "outputs": [
    {
     "data": {
      "text/html": [
       "\n",
       "        <iframe\n",
       "            width=\"1200\"\n",
       "            height=\"600\"\n",
       "            src=\"https://www.google.com\"\n",
       "            frameborder=\"0\"\n",
       "            allowfullscreen\n",
       "        ></iframe>\n",
       "        "
      ],
      "text/plain": [
       "<IPython.lib.display.IFrame at 0x10d51df10>"
      ]
     },
     "execution_count": 54,
     "metadata": {},
     "output_type": "execute_result"
    }
   ],
   "source": [
    "from IPython.display import IFrame\n",
    "IFrame(\"https://www.google.com\", width=1200, height=600)"
   ]
  },
  {
   "cell_type": "markdown",
   "metadata": {
    "slideshow": {
     "slide_type": "slide"
    }
   },
   "source": [
    "##### 7.5 Encuestas\n",
    "\n",
    "¡No desaproveches la oportunidad de aprender de tu audiencia! Termina con una encuesta.\n",
    "\n",
    "<div>\n",
    "    <div style=\"display: inline-block;  width: 70%;\">\n",
    "        <ul>\n",
    "            <li> ¿Qué te pareció la charla? Evaluar de 1 a 5. </li>\n",
    "            <li> ¿Qué le agregarías a la charla? </li>\n",
    "            <li> ¿Qué le sacarías a la charla? </li>\n",
    "        </ul>\n",
    "        <br><br><br><br><br><br>\n",
    "    </div>\n",
    "    <div style=\"display: inline-block; vertical-align: text-bottom; width: 20%;\">\n",
    "        <img src=\"images/qr.png\" alt=\"LoreIpsum\">\n",
    "        Encuesta de la Charla<br>https://bit.ly/3DnrbN6\n",
    "    </div>\n",
    "</div>"
   ]
  },
  {
   "cell_type": "markdown",
   "metadata": {
    "slideshow": {
     "slide_type": "slide"
    }
   },
   "source": [
    "# ¡Muchas gracias!\n",
    "\n",
    "\n",
    "<div>\n",
    "    <div style=\"display: inline-block;  width: 70%;\">\n",
    "        Enlaces:\n",
    "        <ul>\n",
    "            <li> Documentación oficial de RISE: <b>https://rise.readthedocs.io/</b> </li>\n",
    "            <li> Mi blog: <b>sebastiandres.xyz</b> </li>\n",
    "            <li> Charla en PyCon Colombia 2020 y otras voladuras: <b>https://sebastiandres.github.io/</b></li>\n",
    "        </ul>\n",
    "        <br><br><br><br><br>\n",
    "    </div>\n",
    "    <div style=\"display: inline-block; vertical-align: text-bottom; width: 20%;\">\n",
    "        <img src=\"images/qr.png\" alt=\"LoreIpsum\">\n",
    "        Encuesta de la Charla<br>https://bit.ly/3DnrbN6\n",
    "    </div>\n",
    "</div>"
   ]
  },
  {
   "cell_type": "markdown",
   "metadata": {
    "slideshow": {
     "slide_type": "slide"
    }
   },
   "source": [
    "&nbsp;"
   ]
  },
  {
   "cell_type": "code",
   "execution_count": null,
   "metadata": {},
   "outputs": [],
   "source": []
  }
 ],
 "metadata": {
  "celltoolbar": "Slideshow",
  "kernelspec": {
   "display_name": "Python 3",
   "language": "python",
   "name": "python3"
  },
  "language_info": {
   "codemirror_mode": {
    "name": "ipython",
    "version": 3
   },
   "file_extension": ".py",
   "mimetype": "text/x-python",
   "name": "python",
   "nbconvert_exporter": "python",
   "pygments_lexer": "ipython3",
   "version": "3.7.4"
  },
  "nbTranslate": {
   "displayLangs": [
    "*"
   ],
   "hotkey": "alt-t",
   "langInMainMenu": true,
   "sourceLang": "en",
   "targetLang": "fr",
   "useGoogleTranslate": true
  },
  "rise": {
   "_theme_options": [
    "black",
    "white",
    "league",
    "beige",
    "sky",
    "night",
    "serif"
   ],
   "_transition_options": [
    "none",
    "fade",
    "slide",
    "convex",
    "concave",
    "zoom"
   ],
   "autolauch": true,
   "backimage": "images/pycon-latam-background.png",
   "enable_chalkboard": true,
   "footer": "<h3 style='margin-left:225px;margin-bottom:40px;color:grey;'>Sebastián Flores, Agosto 2021</h3>",
   "header": "<h3 style='margin-left:10px;color:grey;'>Presentaciones interactivas con Jupyter Notebook + RISE</h3>",
   "theme": "simple",
   "transition": "slide"
  },
  "varInspector": {
   "cols": {
    "lenName": 16,
    "lenType": 16,
    "lenVar": 40
   },
   "kernels_config": {
    "python": {
     "delete_cmd_postfix": "",
     "delete_cmd_prefix": "del ",
     "library": "var_list.py",
     "varRefreshCmd": "print(var_dic_list())"
    },
    "r": {
     "delete_cmd_postfix": ") ",
     "delete_cmd_prefix": "rm(",
     "library": "var_list.r",
     "varRefreshCmd": "cat(var_dic_list()) "
    }
   },
   "types_to_exclude": [
    "module",
    "function",
    "builtin_function_or_method",
    "instance",
    "_Feature"
   ],
   "window_display": false
  }
 },
 "nbformat": 4,
 "nbformat_minor": 4
}
